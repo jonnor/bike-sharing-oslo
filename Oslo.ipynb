{
 "cells": [
  {
   "cell_type": "code",
   "execution_count": 1,
   "metadata": {
    "collapsed": true
   },
   "outputs": [],
   "source": [
    "%matplotlib inline\n",
    "import pandas"
   ]
  },
  {
   "cell_type": "code",
   "execution_count": 2,
   "metadata": {},
   "outputs": [
    {
     "name": "stdout",
     "output_type": "stream",
     "text": [
      "skipping existing http://oslo-citybike.s3.amazonaws.com/exports/trips-2016.6.1-2016.6.30.csv.zip\n",
      "skipping existing http://oslo-citybike.s3.amazonaws.com/exports/trips-2016.7.1-2016.7.31.csv.zip\n",
      "skipping existing http://oslo-citybike.s3.amazonaws.com/exports/trips-2016.8.1-2016.8.31.csv.zip\n",
      "skipping existing http://oslo-citybike.s3.amazonaws.com/exports/trips-2016.9.1-2016.9.30.csv.zip\n",
      "skipping existing http://oslo-citybike.s3.amazonaws.com/exports/trips-2016.10.1-2016.10.31.csv.zip\n",
      "skipping existing http://oslo-citybike.s3.amazonaws.com/exports/trips-2016.11.1-2016.11.30.csv.zip\n",
      "skipping existing http://oslo-citybike.s3.amazonaws.com/exports/trips-2016.12.1-2016.12.31.csv.zip\n",
      "skipping existing http://oslo-citybike.s3.amazonaws.com/exports/trips-2017.4.1-2017.4.30.csv.zip\n",
      "skipping existing http://oslo-citybike.s3.amazonaws.com/exports/trips-2017.5.1-2017.5.31.csv.zip\n",
      "skipping existing http://oslo-citybike.s3.amazonaws.com/exports/trips-2017.6.1-2017.6.30.csv.zip\n",
      "skipping existing http://oslo-citybike.s3.amazonaws.com/exports/trips-2017.7.1-2017.7.31.csv.zip\n"
     ]
    },
    {
     "data": {
      "text/plain": [
       "'done'"
      ]
     },
     "execution_count": 2,
     "metadata": {},
     "output_type": "execute_result"
    }
   ],
   "source": [
    "# Tools for downloading dataset\n",
    "def trips_basename(year, month):\n",
    "    import calendar\n",
    "    firstday, lastday = (1, calendar.monthrange(year, month)[1])\n",
    "    return \"trips-{year}.{month}.{firstday}-{year}.{month}.{lastday}\".format(**locals())\n",
    "def trips_url(year, month):\n",
    "    base = trips_basename(year, month)\n",
    "    extension = '.csv.zip'\n",
    "    server_dir = 'http://oslo-citybike.s3.amazonaws.com/exports/'\n",
    "    return server_dir + base + extension\n",
    "\n",
    "def download_trip(year, month):\n",
    "    import urllib.request\n",
    "    from io import BytesIO\n",
    "    from zipfile import ZipFile\n",
    "    import os.path\n",
    "    \n",
    "    url = trips_url(year, month)\n",
    "    filename = trips_basename(year, month) + '.csv'\n",
    "    outpath = \"data/\"+filename\n",
    "    if os.path.exists(outpath):\n",
    "        print('skipping existing %s' % (url))\n",
    "        return outpath\n",
    "    \n",
    "    print('downloading %s' % (url,))\n",
    "    \n",
    "    # Download ZIP to memory\n",
    "    # ZipFile requires seek() which urlib does not implement\n",
    "    temp = BytesIO()\n",
    "    temp.write(urllib.request.urlopen(url).read())\n",
    "    zipfile = ZipFile(temp)\n",
    "\n",
    "    # Write to disk\n",
    "    csvfile = open(outpath, 'wb+')\n",
    "    csvfile.write(zipfile.read(filename))\n",
    "\n",
    "    csvfile.close()\n",
    "    zipfile.close()\n",
    "    return outpath\n",
    "\n",
    "def months_between(start, end):\n",
    "    periods = []\n",
    "    current = list(start)\n",
    "    while (current != list(end)):\n",
    "        periods.append(tuple(current))\n",
    "\n",
    "        # calculate next\n",
    "        if current[1] == 12:\n",
    "            # end of year\n",
    "            current[0] += 1\n",
    "            current[1] = 1\n",
    "        else:\n",
    "           # just new month\n",
    "           current[1] += 1\n",
    "    return periods\n",
    "\n",
    "start = (2016, 6)\n",
    "end = (2017, 8)\n",
    "notexisting = [\n",
    "    (2017, 1), (2017, 2), (2017, 3)\n",
    "]\n",
    "periods = sorted(set(months_between(start, end)).difference(notexisting))\n",
    "for period in periods:\n",
    "    try:\n",
    "        filename = download_trip(*period)\n",
    "    except Exception as e:\n",
    "        raise RuntimeError(\"Could not download %d-%d: %s\" % (*period, e.msg))\n",
    "\"done\""
   ]
  },
  {
   "cell_type": "code",
   "execution_count": 138,
   "metadata": {},
   "outputs": [
    {
     "data": {
      "text/plain": [
       "[{'bounds': [{'latitude': 59.915418602160436, 'longitude': 10.762068629264832},\n",
       "   {'latitude': 59.91565254992276, 'longitude': 10.762672126293182},\n",
       "   {'latitude': 59.915807169665264, 'longitude': 10.762433409690855},\n",
       "   {'latitude': 59.91557994562126, 'longitude': 10.761821866035461},\n",
       "   {'latitude': 59.915418602160436, 'longitude': 10.762068629264832}],\n",
       "  'center': {'latitude': 59.91562, 'longitude': 10.762248},\n",
       "  'id': 157,\n",
       "  'in_service': True,\n",
       "  'number_of_locks': 30,\n",
       "  'subtitle': 'mellom Norbygata og Urtegata',\n",
       "  'title': 'Nylandsveien'},\n",
       " {'bounds': [{'latitude': 59.938998693156904, 'longitude': 10.758989453315735},\n",
       "   {'latitude': 59.939057810485, 'longitude': 10.759515166282652},\n",
       "   {'latitude': 59.93939638951557, 'longitude': 10.759338140487671},\n",
       "   {'latitude': 59.93932383715719, 'longitude': 10.758823156356812},\n",
       "   {'latitude': 59.938998693156904, 'longitude': 10.758989453315735}],\n",
       "  'center': {'latitude': 59.939192, 'longitude': 10.759168},\n",
       "  'id': 158,\n",
       "  'in_service': True,\n",
       "  'number_of_locks': 24,\n",
       "  'subtitle': 'rett over busstoppet',\n",
       "  'title': 'Bentsebrugata'},\n",
       " {'bounds': [{'latitude': 59.93911558413561, 'longitude': 10.774433612823486},\n",
       "   {'latitude': 59.939206946912556, 'longitude': 10.77458918094635},\n",
       "   {'latitude': 59.93938967171128, 'longitude': 10.774173438549042},\n",
       "   {'latitude': 59.93929830943778, 'longitude': 10.773993730545044},\n",
       "   {'latitude': 59.93911558413561, 'longitude': 10.774433612823486}],\n",
       "  'center': {'latitude': 59.939262, 'longitude': 10.774296},\n",
       "  'id': 159,\n",
       "  'in_service': True,\n",
       "  'number_of_locks': 21,\n",
       "  'subtitle': 'Mellom Åsengata og Nordkappgata',\n",
       "  'title': 'Hans Nielsen Hauges plass'}]"
      ]
     },
     "execution_count": 138,
     "metadata": {},
     "output_type": "execute_result"
    }
   ],
   "source": [
    "import json\n",
    "stations = json.loads(open('data/oslo_stations.json', 'r').read())\n",
    "stations['stations'][:3]"
   ]
  },
  {
   "cell_type": "code",
   "execution_count": 84,
   "metadata": {},
   "outputs": [
    {
     "name": "stdout",
     "output_type": "stream",
     "text": [
      "reading data/trips-2016.6.1-2016.6.30.csv\n"
     ]
    },
    {
     "data": {
      "text/html": [
       "<div>\n",
       "<style>\n",
       "    .dataframe thead tr:only-child th {\n",
       "        text-align: right;\n",
       "    }\n",
       "\n",
       "    .dataframe thead th {\n",
       "        text-align: left;\n",
       "    }\n",
       "\n",
       "    .dataframe tbody tr th {\n",
       "        vertical-align: top;\n",
       "    }\n",
       "</style>\n",
       "<table border=\"1\" class=\"dataframe\">\n",
       "  <thead>\n",
       "    <tr style=\"text-align: right;\">\n",
       "      <th></th>\n",
       "      <th>Start station</th>\n",
       "      <th>Start time</th>\n",
       "      <th>End station</th>\n",
       "      <th>End time</th>\n",
       "    </tr>\n",
       "  </thead>\n",
       "  <tbody>\n",
       "    <tr>\n",
       "      <th>0</th>\n",
       "      <td>226</td>\n",
       "      <td>2016-06-01 03:59:59</td>\n",
       "      <td>243</td>\n",
       "      <td>2016-06-01 04:02:14</td>\n",
       "    </tr>\n",
       "    <tr>\n",
       "      <th>1</th>\n",
       "      <td>206</td>\n",
       "      <td>2016-06-01 04:00:02</td>\n",
       "      <td>212</td>\n",
       "      <td>2016-06-01 04:18:46</td>\n",
       "    </tr>\n",
       "    <tr>\n",
       "      <th>2</th>\n",
       "      <td>290</td>\n",
       "      <td>2016-06-01 04:00:06</td>\n",
       "      <td>261</td>\n",
       "      <td>2016-06-01 04:02:14</td>\n",
       "    </tr>\n",
       "  </tbody>\n",
       "</table>\n",
       "</div>"
      ],
      "text/plain": [
       "   Start station          Start time  End station            End time\n",
       "0            226 2016-06-01 03:59:59          243 2016-06-01 04:02:14\n",
       "1            206 2016-06-01 04:00:02          212 2016-06-01 04:18:46\n",
       "2            290 2016-06-01 04:00:06          261 2016-06-01 04:02:14"
      ]
     },
     "execution_count": 84,
     "metadata": {},
     "output_type": "execute_result"
    }
   ],
   "source": [
    "# NOTE: Uses about 700MB of RAM\n",
    "from datetime import datetime\n",
    "\n",
    "def parse_date(val):\n",
    "    # ref http://strftime.org/\n",
    "    date_format = \"%Y-%m-%d %H:%M:%S %z\"\n",
    "    return datetime.strptime(first, date_format)\n",
    "\n",
    "trips = pandas.DataFrame()\n",
    "for period in periods[:1]:\n",
    "    filename = \"data/\"+ trips_basename(*period)+'.csv'\n",
    "    print('reading', filename)\n",
    "    frame = pandas.read_csv(filename, index_col=None, header=0, parse_dates=[1, 3])\n",
    "    trips = pandas.concat([trips, frame])\n",
    "trips[:3]"
   ]
  },
  {
   "cell_type": "code",
   "execution_count": 4,
   "metadata": {},
   "outputs": [
    {
     "data": {
      "text/plain": [
       "3180520"
      ]
     },
     "execution_count": 4,
     "metadata": {},
     "output_type": "execute_result"
    }
   ],
   "source": [
    "number_trips = trips.shape[0]\n",
    "number_trips"
   ]
  },
  {
   "cell_type": "code",
   "execution_count": 86,
   "metadata": {},
   "outputs": [
    {
     "data": {
      "text/plain": [
       "(Timestamp('2016-06-01 03:59:59'), Timestamp('2016-06-30 21:59:53'))"
      ]
     },
     "execution_count": 86,
     "metadata": {},
     "output_type": "execute_result"
    }
   ],
   "source": [
    "first = trips['Start time'].min()\n",
    "last = trips['Start time'].max()\n",
    "first, last"
   ]
  },
  {
   "cell_type": "code",
   "execution_count": 98,
   "metadata": {
    "collapsed": true
   },
   "outputs": [],
   "source": [
    "trips.set_index(['Start time'], drop=False, inplace=True)"
   ]
  },
  {
   "cell_type": "code",
   "execution_count": 85,
   "metadata": {},
   "outputs": [
    {
     "data": {
      "text/plain": [
       "(Timestamp('2016-06-01 03:59:59'), Timestamp('2016-06-30 21:59:53'))"
      ]
     },
     "execution_count": 85,
     "metadata": {},
     "output_type": "execute_result"
    }
   ],
   "source": []
  },
  {
   "cell_type": "code",
   "execution_count": 99,
   "metadata": {},
   "outputs": [
    {
     "data": {
      "text/html": [
       "<div>\n",
       "<style>\n",
       "    .dataframe thead tr:only-child th {\n",
       "        text-align: right;\n",
       "    }\n",
       "\n",
       "    .dataframe thead th {\n",
       "        text-align: left;\n",
       "    }\n",
       "\n",
       "    .dataframe tbody tr th {\n",
       "        vertical-align: top;\n",
       "    }\n",
       "</style>\n",
       "<table border=\"1\" class=\"dataframe\">\n",
       "  <thead>\n",
       "    <tr style=\"text-align: right;\">\n",
       "      <th></th>\n",
       "      <th>Start station</th>\n",
       "      <th>Start time</th>\n",
       "      <th>End station</th>\n",
       "      <th>End time</th>\n",
       "    </tr>\n",
       "    <tr>\n",
       "      <th>Start time</th>\n",
       "      <th></th>\n",
       "      <th></th>\n",
       "      <th></th>\n",
       "      <th></th>\n",
       "    </tr>\n",
       "  </thead>\n",
       "  <tbody>\n",
       "    <tr>\n",
       "      <th>2016-06-03 04:00:05</th>\n",
       "      <td>206</td>\n",
       "      <td>2016-06-03 04:00:05</td>\n",
       "      <td>212</td>\n",
       "      <td>2016-06-03 04:20:46</td>\n",
       "    </tr>\n",
       "    <tr>\n",
       "      <th>2016-06-03 04:00:05</th>\n",
       "      <td>267</td>\n",
       "      <td>2016-06-03 04:00:05</td>\n",
       "      <td>252</td>\n",
       "      <td>2016-06-03 06:44:13</td>\n",
       "    </tr>\n",
       "    <tr>\n",
       "      <th>2016-06-03 04:00:06</th>\n",
       "      <td>222</td>\n",
       "      <td>2016-06-03 04:00:06</td>\n",
       "      <td>247</td>\n",
       "      <td>2016-06-03 04:06:47</td>\n",
       "    </tr>\n",
       "  </tbody>\n",
       "</table>\n",
       "</div>"
      ],
      "text/plain": [
       "                     Start station          Start time  End station  \\\n",
       "Start time                                                            \n",
       "2016-06-03 04:00:05            206 2016-06-03 04:00:05          212   \n",
       "2016-06-03 04:00:05            267 2016-06-03 04:00:05          252   \n",
       "2016-06-03 04:00:06            222 2016-06-03 04:00:06          247   \n",
       "\n",
       "                               End time  \n",
       "Start time                               \n",
       "2016-06-03 04:00:05 2016-06-03 04:20:46  \n",
       "2016-06-03 04:00:05 2016-06-03 06:44:13  \n",
       "2016-06-03 04:00:06 2016-06-03 04:06:47  "
      ]
     },
     "execution_count": 99,
     "metadata": {},
     "output_type": "execute_result"
    }
   ],
   "source": [
    "period = trips['2016-06-03':'2016-06-03']\n",
    "period[:3]"
   ]
  },
  {
   "cell_type": "code",
   "execution_count": 101,
   "metadata": {},
   "outputs": [
    {
     "data": {
      "text/html": [
       "<div>\n",
       "<style>\n",
       "    .dataframe thead tr:only-child th {\n",
       "        text-align: right;\n",
       "    }\n",
       "\n",
       "    .dataframe thead th {\n",
       "        text-align: left;\n",
       "    }\n",
       "\n",
       "    .dataframe tbody tr th {\n",
       "        vertical-align: top;\n",
       "    }\n",
       "</style>\n",
       "<table border=\"1\" class=\"dataframe\">\n",
       "  <thead>\n",
       "    <tr style=\"text-align: right;\">\n",
       "      <th>End station</th>\n",
       "      <th>157</th>\n",
       "      <th>159</th>\n",
       "      <th>160</th>\n",
       "      <th>161</th>\n",
       "      <th>162</th>\n",
       "      <th>163</th>\n",
       "      <th>164</th>\n",
       "      <th>167</th>\n",
       "      <th>170</th>\n",
       "      <th>172</th>\n",
       "      <th>...</th>\n",
       "      <th>287</th>\n",
       "      <th>288</th>\n",
       "      <th>290</th>\n",
       "      <th>291</th>\n",
       "      <th>292</th>\n",
       "      <th>293</th>\n",
       "      <th>294</th>\n",
       "      <th>298</th>\n",
       "      <th>301</th>\n",
       "      <th>302</th>\n",
       "    </tr>\n",
       "    <tr>\n",
       "      <th>Start station</th>\n",
       "      <th></th>\n",
       "      <th></th>\n",
       "      <th></th>\n",
       "      <th></th>\n",
       "      <th></th>\n",
       "      <th></th>\n",
       "      <th></th>\n",
       "      <th></th>\n",
       "      <th></th>\n",
       "      <th></th>\n",
       "      <th></th>\n",
       "      <th></th>\n",
       "      <th></th>\n",
       "      <th></th>\n",
       "      <th></th>\n",
       "      <th></th>\n",
       "      <th></th>\n",
       "      <th></th>\n",
       "      <th></th>\n",
       "      <th></th>\n",
       "      <th></th>\n",
       "    </tr>\n",
       "  </thead>\n",
       "  <tbody>\n",
       "    <tr>\n",
       "      <th>157</th>\n",
       "      <td>0.123377</td>\n",
       "      <td>0.000000</td>\n",
       "      <td>0.005348</td>\n",
       "      <td>0.000000</td>\n",
       "      <td>0.004584</td>\n",
       "      <td>0.029794</td>\n",
       "      <td>0.019481</td>\n",
       "      <td>0.003056</td>\n",
       "      <td>0.000000</td>\n",
       "      <td>0.002292</td>\n",
       "      <td>...</td>\n",
       "      <td>0.010313</td>\n",
       "      <td>0.014515</td>\n",
       "      <td>0.000382</td>\n",
       "      <td>0.000000</td>\n",
       "      <td>0.001910</td>\n",
       "      <td>0.001528</td>\n",
       "      <td>0.028648</td>\n",
       "      <td>0.000000</td>\n",
       "      <td>0.007257</td>\n",
       "      <td>0.012987</td>\n",
       "    </tr>\n",
       "    <tr>\n",
       "      <th>159</th>\n",
       "      <td>0.003911</td>\n",
       "      <td>0.099739</td>\n",
       "      <td>0.003911</td>\n",
       "      <td>0.004563</td>\n",
       "      <td>0.019557</td>\n",
       "      <td>0.015645</td>\n",
       "      <td>0.011082</td>\n",
       "      <td>0.001956</td>\n",
       "      <td>0.000000</td>\n",
       "      <td>0.006519</td>\n",
       "      <td>...</td>\n",
       "      <td>0.003911</td>\n",
       "      <td>0.005215</td>\n",
       "      <td>0.000652</td>\n",
       "      <td>0.003259</td>\n",
       "      <td>0.003259</td>\n",
       "      <td>0.003911</td>\n",
       "      <td>0.020209</td>\n",
       "      <td>0.001956</td>\n",
       "      <td>0.002608</td>\n",
       "      <td>0.009126</td>\n",
       "    </tr>\n",
       "    <tr>\n",
       "      <th>160</th>\n",
       "      <td>0.004156</td>\n",
       "      <td>0.002267</td>\n",
       "      <td>0.090669</td>\n",
       "      <td>0.003022</td>\n",
       "      <td>0.006045</td>\n",
       "      <td>0.011334</td>\n",
       "      <td>0.011711</td>\n",
       "      <td>0.007934</td>\n",
       "      <td>0.000756</td>\n",
       "      <td>0.001889</td>\n",
       "      <td>...</td>\n",
       "      <td>0.012089</td>\n",
       "      <td>0.006045</td>\n",
       "      <td>0.006045</td>\n",
       "      <td>0.000756</td>\n",
       "      <td>0.017756</td>\n",
       "      <td>0.007934</td>\n",
       "      <td>0.022667</td>\n",
       "      <td>0.003022</td>\n",
       "      <td>0.007178</td>\n",
       "      <td>0.019267</td>\n",
       "    </tr>\n",
       "  </tbody>\n",
       "</table>\n",
       "<p>3 rows × 110 columns</p>\n",
       "</div>"
      ],
      "text/plain": [
       "End station         157       159       160       161       162       163  \\\n",
       "Start station                                                               \n",
       "157            0.123377  0.000000  0.005348  0.000000  0.004584  0.029794   \n",
       "159            0.003911  0.099739  0.003911  0.004563  0.019557  0.015645   \n",
       "160            0.004156  0.002267  0.090669  0.003022  0.006045  0.011334   \n",
       "\n",
       "End station         164       167       170       172    ...          287  \\\n",
       "Start station                                            ...                \n",
       "157            0.019481  0.003056  0.000000  0.002292    ...     0.010313   \n",
       "159            0.011082  0.001956  0.000000  0.006519    ...     0.003911   \n",
       "160            0.011711  0.007934  0.000756  0.001889    ...     0.012089   \n",
       "\n",
       "End station         288       290       291       292       293       294  \\\n",
       "Start station                                                               \n",
       "157            0.014515  0.000382  0.000000  0.001910  0.001528  0.028648   \n",
       "159            0.005215  0.000652  0.003259  0.003259  0.003911  0.020209   \n",
       "160            0.006045  0.006045  0.000756  0.017756  0.007934  0.022667   \n",
       "\n",
       "End station         298       301       302  \n",
       "Start station                                \n",
       "157            0.000000  0.007257  0.012987  \n",
       "159            0.001956  0.002608  0.009126  \n",
       "160            0.003022  0.007178  0.019267  \n",
       "\n",
       "[3 rows x 110 columns]"
      ]
     },
     "execution_count": 101,
     "metadata": {},
     "output_type": "execute_result"
    }
   ],
   "source": [
    "# How are stations connected to eachother?\n",
    "period = trips['2016-06-03':'2016-07-13']\n",
    "cross = pandas.crosstab(period['Start station'], period['End station'])\n",
    "relative = cross.div(cross.sum(axis=1), axis=0)\n",
    "relative[:3]"
   ]
  },
  {
   "cell_type": "code",
   "execution_count": 78,
   "metadata": {},
   "outputs": [
    {
     "data": {
      "text/plain": [
       "Return to same station    0.07093\n",
       "dtype: float64"
      ]
     },
     "execution_count": 78,
     "metadata": {},
     "output_type": "execute_result"
    },
    {
     "data": {
      "image/png": "[encoded data removed]",
      "text/plain": [
       "<matplotlib.figure.Figure at 0x7f00907b4f60>"
      ]
     },
     "metadata": {},
     "output_type": "display_data"
    }
   ],
   "source": [
    "### Do people return to same station often?\n",
    "import numpy\n",
    "self_ = pandas.DataFrame(numpy.diag(relative), columns=('Return to same station',))\n",
    "self_.hist(bins=30)\n",
    "# About 5-10% of the trips go back to same stations\n",
    "self_.median()"
   ]
  },
  {
   "cell_type": "code",
   "execution_count": 113,
   "metadata": {},
   "outputs": [
    {
     "data": {
      "text/plain": [
       "count                    292302\n",
       "mean     0 days 00:28:30.015425\n",
       "std      0 days 03:30:13.330161\n",
       "min             0 days 00:00:07\n",
       "25%             0 days 00:05:55\n",
       "50%             0 days 00:09:39\n",
       "75%             0 days 00:17:57\n",
       "max            22 days 16:38:20\n",
       "Name: Duration, dtype: object"
      ]
     },
     "execution_count": 113,
     "metadata": {},
     "output_type": "execute_result"
    }
   ],
   "source": [
    "# Enrich dataset with trip durations\n",
    "trips['Duration'] = trips['End time'] - trips['Start time']\n",
    "\n",
    "trips['Duration'].describe()"
   ]
  },
  {
   "cell_type": "code",
   "execution_count": 137,
   "metadata": {},
   "outputs": [
    {
     "data": {
      "text/html": [
       "<div>\n",
       "<style>\n",
       "    .dataframe thead tr:only-child th {\n",
       "        text-align: right;\n",
       "    }\n",
       "\n",
       "    .dataframe thead th {\n",
       "        text-align: left;\n",
       "    }\n",
       "\n",
       "    .dataframe tbody tr th {\n",
       "        vertical-align: top;\n",
       "    }\n",
       "</style>\n",
       "<table border=\"1\" class=\"dataframe\">\n",
       "  <thead>\n",
       "    <tr style=\"text-align: right;\">\n",
       "      <th></th>\n",
       "      <th>count</th>\n",
       "      <th>mean</th>\n",
       "      <th>std</th>\n",
       "      <th>min</th>\n",
       "      <th>3%</th>\n",
       "      <th>5%</th>\n",
       "      <th>10%</th>\n",
       "      <th>20%</th>\n",
       "      <th>30%</th>\n",
       "      <th>40%</th>\n",
       "      <th>50%</th>\n",
       "      <th>75%</th>\n",
       "      <th>90%</th>\n",
       "      <th>95%</th>\n",
       "      <th>max</th>\n",
       "    </tr>\n",
       "  </thead>\n",
       "  <tbody>\n",
       "    <tr>\n",
       "      <th>Duration</th>\n",
       "      <td>292302</td>\n",
       "      <td>00:28:30.015425</td>\n",
       "      <td>03:30:13.330161</td>\n",
       "      <td>00:00:07</td>\n",
       "      <td>00:01:15</td>\n",
       "      <td>00:02:21</td>\n",
       "      <td>00:03:37</td>\n",
       "      <td>00:05:13</td>\n",
       "      <td>00:06:35</td>\n",
       "      <td>00:08:00</td>\n",
       "      <td>00:09:39</td>\n",
       "      <td>00:17:57</td>\n",
       "      <td>00:59:31</td>\n",
       "      <td>01:54:10</td>\n",
       "      <td>22 days 16:38:20</td>\n",
       "    </tr>\n",
       "    <tr>\n",
       "      <th>Duration</th>\n",
       "      <td>22948</td>\n",
       "      <td>00:40:45.077348</td>\n",
       "      <td>03:28:28.028896</td>\n",
       "      <td>00:00:07</td>\n",
       "      <td>00:00:16</td>\n",
       "      <td>00:00:18</td>\n",
       "      <td>00:00:22</td>\n",
       "      <td>00:00:32</td>\n",
       "      <td>00:00:49</td>\n",
       "      <td>00:01:29</td>\n",
       "      <td>00:06:24</td>\n",
       "      <td>00:51:11.250000</td>\n",
       "      <td>02:01:44</td>\n",
       "      <td>02:39:11.299999</td>\n",
       "      <td>19 days 02:47:19</td>\n",
       "    </tr>\n",
       "  </tbody>\n",
       "</table>\n",
       "</div>"
      ],
      "text/plain": [
       "           count            mean             std      min       3%       5%  \\\n",
       "Duration  292302 00:28:30.015425 03:30:13.330161 00:00:07 00:01:15 00:02:21   \n",
       "Duration   22948 00:40:45.077348 03:28:28.028896 00:00:07 00:00:16 00:00:18   \n",
       "\n",
       "              10%      20%      30%      40%      50%             75%  \\\n",
       "Duration 00:03:37 00:05:13 00:06:35 00:08:00 00:09:39        00:17:57   \n",
       "Duration 00:00:22 00:00:32 00:00:49 00:01:29 00:06:24 00:51:11.250000   \n",
       "\n",
       "              90%             95%              max  \n",
       "Duration 00:59:31        01:54:10 22 days 16:38:20  \n",
       "Duration 02:01:44 02:39:11.299999 19 days 02:47:19  "
      ]
     },
     "execution_count": 137,
     "metadata": {},
     "output_type": "execute_result"
    }
   ],
   "source": [
    "# Are own trips just errors?\n",
    "own_trips = trips[trips['Start station'].eq(trips['End station'])]\n",
    "percentiles = [0.03, 0.05, 0.1, 0.2, 0.3, 0.4, 0.5, 0.75, 0.90, 0.95]\n",
    "comp = pandas.DataFrame([trips['Duration'].describe(percentiles=percentiles), own_trips['Duration'].describe(percentiles=percentiles)])\n",
    "# 30% of return-to-same trips are below 1 minute. Where as < 3% of all trips are below. Probably errors!\n",
    "# But, also the 75 percentile is 50 minutes for return-to-same versus.\n",
    "# So people do spend longer time when going back to same place. Possibly not returning the bike it and returning?\n",
    "# Would be come clearer if we would remove the 'errors'\n",
    "comp"
   ]
  },
  {
   "cell_type": "code",
   "execution_count": 149,
   "metadata": {},
   "outputs": [
    {
     "data": {
      "text/html": [
       "<div>\n",
       "<style>\n",
       "    .dataframe thead tr:only-child th {\n",
       "        text-align: right;\n",
       "    }\n",
       "\n",
       "    .dataframe thead th {\n",
       "        text-align: left;\n",
       "    }\n",
       "\n",
       "    .dataframe tbody tr th {\n",
       "        vertical-align: top;\n",
       "    }\n",
       "</style>\n",
       "<table border=\"1\" class=\"dataframe\">\n",
       "  <thead>\n",
       "    <tr style=\"text-align: right;\">\n",
       "      <th></th>\n",
       "      <th>Start station</th>\n",
       "      <th>Start time</th>\n",
       "      <th>End station</th>\n",
       "      <th>End time</th>\n",
       "      <th>Duration</th>\n",
       "      <th>Distance</th>\n",
       "    </tr>\n",
       "    <tr>\n",
       "      <th>Start time</th>\n",
       "      <th></th>\n",
       "      <th></th>\n",
       "      <th></th>\n",
       "      <th></th>\n",
       "      <th></th>\n",
       "      <th></th>\n",
       "    </tr>\n",
       "  </thead>\n",
       "  <tbody>\n",
       "    <tr>\n",
       "      <th>2016-06-01 03:59:59</th>\n",
       "      <td>226</td>\n",
       "      <td>2016-06-01 03:59:59</td>\n",
       "      <td>243</td>\n",
       "      <td>2016-06-01 04:02:14</td>\n",
       "      <td>00:02:15</td>\n",
       "      <td>610.115142</td>\n",
       "    </tr>\n",
       "    <tr>\n",
       "      <th>2016-06-01 04:00:02</th>\n",
       "      <td>206</td>\n",
       "      <td>2016-06-01 04:00:02</td>\n",
       "      <td>212</td>\n",
       "      <td>2016-06-01 04:18:46</td>\n",
       "      <td>00:18:44</td>\n",
       "      <td>2917.746920</td>\n",
       "    </tr>\n",
       "    <tr>\n",
       "      <th>2016-06-01 04:00:06</th>\n",
       "      <td>290</td>\n",
       "      <td>2016-06-01 04:00:06</td>\n",
       "      <td>261</td>\n",
       "      <td>2016-06-01 04:02:14</td>\n",
       "      <td>00:02:08</td>\n",
       "      <td>354.690116</td>\n",
       "    </tr>\n",
       "    <tr>\n",
       "      <th>2016-06-01 04:00:06</th>\n",
       "      <td>206</td>\n",
       "      <td>2016-06-01 04:00:06</td>\n",
       "      <td>233</td>\n",
       "      <td>2016-06-01 04:02:47</td>\n",
       "      <td>00:02:41</td>\n",
       "      <td>767.072410</td>\n",
       "    </tr>\n",
       "    <tr>\n",
       "      <th>2016-06-01 04:00:06</th>\n",
       "      <td>184</td>\n",
       "      <td>2016-06-01 04:00:06</td>\n",
       "      <td>179</td>\n",
       "      <td>2016-06-01 04:15:13</td>\n",
       "      <td>00:15:07</td>\n",
       "      <td>2986.506648</td>\n",
       "    </tr>\n",
       "  </tbody>\n",
       "</table>\n",
       "</div>"
      ],
      "text/plain": [
       "                     Start station          Start time  End station  \\\n",
       "Start time                                                            \n",
       "2016-06-01 03:59:59            226 2016-06-01 03:59:59          243   \n",
       "2016-06-01 04:00:02            206 2016-06-01 04:00:02          212   \n",
       "2016-06-01 04:00:06            290 2016-06-01 04:00:06          261   \n",
       "2016-06-01 04:00:06            206 2016-06-01 04:00:06          233   \n",
       "2016-06-01 04:00:06            184 2016-06-01 04:00:06          179   \n",
       "\n",
       "                               End time Duration     Distance  \n",
       "Start time                                                     \n",
       "2016-06-01 03:59:59 2016-06-01 04:02:14 00:02:15   610.115142  \n",
       "2016-06-01 04:00:02 2016-06-01 04:18:46 00:18:44  2917.746920  \n",
       "2016-06-01 04:00:06 2016-06-01 04:02:14 00:02:08   354.690116  \n",
       "2016-06-01 04:00:06 2016-06-01 04:02:47 00:02:41   767.072410  \n",
       "2016-06-01 04:00:06 2016-06-01 04:15:13 00:15:07  2986.506648  "
      ]
     },
     "execution_count": 149,
     "metadata": {},
     "output_type": "execute_result"
    }
   ],
   "source": [
    "# Enrich trip data with distance of the trip\n",
    "import geopy.distance\n",
    "import math\n",
    "stations_by_id = {} # id -> data\n",
    "for station in stations['stations']:\n",
    "    station_id = station['id']\n",
    "    # sanity checking\n",
    "    if not isinstance(station_id, int):\n",
    "        raise ValueError(\"Station identifier not an integer: %s\" % repr(station_id))\n",
    "    if stations_by_id.get(station_id):\n",
    "        raise ValueError(\"Duplicate station id: %d\" % (station_id,))\n",
    "    stations_by_id[station_id] = station\n",
    "def station_location(station_id):\n",
    "    station = stations_by_id.get(station_id, None)\n",
    "    if not station:\n",
    "        return None\n",
    "    point = station['center']\n",
    "    return (point['latitude'], point['longitude'])\n",
    "def calculate_distance(row):\n",
    "    start = station_location(int(row['Start station']))\n",
    "    end = station_location(int(row['End station']))\n",
    "    if start is None or end is None:\n",
    "        return math.nan\n",
    "    dist = geopy.distance.great_circle(start, end)\n",
    "    return dist.meters\n",
    "\n",
    "subs = trips[:5].copy()\n",
    "subs['Distance'] = subs.apply(calculate_distance, 'columns')\n",
    "subs[:5]"
   ]
  },
  {
   "cell_type": "code",
   "execution_count": 150,
   "metadata": {},
   "outputs": [
    {
     "data": {
      "text/html": [
       "<div>\n",
       "<style>\n",
       "    .dataframe thead tr:only-child th {\n",
       "        text-align: right;\n",
       "    }\n",
       "\n",
       "    .dataframe thead th {\n",
       "        text-align: left;\n",
       "    }\n",
       "\n",
       "    .dataframe tbody tr th {\n",
       "        vertical-align: top;\n",
       "    }\n",
       "</style>\n",
       "<table border=\"1\" class=\"dataframe\">\n",
       "  <thead>\n",
       "    <tr style=\"text-align: right;\">\n",
       "      <th></th>\n",
       "      <th>Start station</th>\n",
       "      <th>Start time</th>\n",
       "      <th>End station</th>\n",
       "      <th>End time</th>\n",
       "      <th>Duration</th>\n",
       "      <th>Distance</th>\n",
       "      <th>Velocity</th>\n",
       "    </tr>\n",
       "    <tr>\n",
       "      <th>Start time</th>\n",
       "      <th></th>\n",
       "      <th></th>\n",
       "      <th></th>\n",
       "      <th></th>\n",
       "      <th></th>\n",
       "      <th></th>\n",
       "      <th></th>\n",
       "    </tr>\n",
       "  </thead>\n",
       "  <tbody>\n",
       "    <tr>\n",
       "      <th>2016-06-01 03:59:59</th>\n",
       "      <td>226</td>\n",
       "      <td>2016-06-01 03:59:59</td>\n",
       "      <td>243</td>\n",
       "      <td>2016-06-01 04:02:14</td>\n",
       "      <td>00:02:15</td>\n",
       "      <td>610.115142</td>\n",
       "      <td>4.519371</td>\n",
       "    </tr>\n",
       "    <tr>\n",
       "      <th>2016-06-01 04:00:02</th>\n",
       "      <td>206</td>\n",
       "      <td>2016-06-01 04:00:02</td>\n",
       "      <td>212</td>\n",
       "      <td>2016-06-01 04:18:46</td>\n",
       "      <td>00:18:44</td>\n",
       "      <td>2917.746920</td>\n",
       "      <td>2.595860</td>\n",
       "    </tr>\n",
       "    <tr>\n",
       "      <th>2016-06-01 04:00:06</th>\n",
       "      <td>290</td>\n",
       "      <td>2016-06-01 04:00:06</td>\n",
       "      <td>261</td>\n",
       "      <td>2016-06-01 04:02:14</td>\n",
       "      <td>00:02:08</td>\n",
       "      <td>354.690116</td>\n",
       "      <td>2.771017</td>\n",
       "    </tr>\n",
       "    <tr>\n",
       "      <th>2016-06-01 04:00:06</th>\n",
       "      <td>206</td>\n",
       "      <td>2016-06-01 04:00:06</td>\n",
       "      <td>233</td>\n",
       "      <td>2016-06-01 04:02:47</td>\n",
       "      <td>00:02:41</td>\n",
       "      <td>767.072410</td>\n",
       "      <td>4.764425</td>\n",
       "    </tr>\n",
       "    <tr>\n",
       "      <th>2016-06-01 04:00:06</th>\n",
       "      <td>184</td>\n",
       "      <td>2016-06-01 04:00:06</td>\n",
       "      <td>179</td>\n",
       "      <td>2016-06-01 04:15:13</td>\n",
       "      <td>00:15:07</td>\n",
       "      <td>2986.506648</td>\n",
       "      <td>3.292731</td>\n",
       "    </tr>\n",
       "  </tbody>\n",
       "</table>\n",
       "</div>"
      ],
      "text/plain": [
       "                     Start station          Start time  End station  \\\n",
       "Start time                                                            \n",
       "2016-06-01 03:59:59            226 2016-06-01 03:59:59          243   \n",
       "2016-06-01 04:00:02            206 2016-06-01 04:00:02          212   \n",
       "2016-06-01 04:00:06            290 2016-06-01 04:00:06          261   \n",
       "2016-06-01 04:00:06            206 2016-06-01 04:00:06          233   \n",
       "2016-06-01 04:00:06            184 2016-06-01 04:00:06          179   \n",
       "\n",
       "                               End time Duration     Distance  Velocity  \n",
       "Start time                                                               \n",
       "2016-06-01 03:59:59 2016-06-01 04:02:14 00:02:15   610.115142  4.519371  \n",
       "2016-06-01 04:00:02 2016-06-01 04:18:46 00:18:44  2917.746920  2.595860  \n",
       "2016-06-01 04:00:06 2016-06-01 04:02:14 00:02:08   354.690116  2.771017  \n",
       "2016-06-01 04:00:06 2016-06-01 04:02:47 00:02:41   767.072410  4.764425  \n",
       "2016-06-01 04:00:06 2016-06-01 04:15:13 00:15:07  2986.506648  3.292731  "
      ]
     },
     "execution_count": 150,
     "metadata": {},
     "output_type": "execute_result"
    }
   ],
   "source": [
    "# FIXME: use vector division on whole dataframe? Cant be done with timeperiod type though?\n",
    "def calculate_velocity(row):\n",
    "    velocity = row['Distance'] / row['Duration'].total_seconds()\n",
    "    return velocity\n",
    " \n",
    "subs['Velocity'] = subs.apply(calculate_velocity, 'columns')\n",
    "subs"
   ]
  },
  {
   "cell_type": "code",
   "execution_count": 80,
   "metadata": {},
   "outputs": [
    {
     "data": {
      "text/plain": [
       "{171.0, 172.0, 173.0, 186.0, 271.0, 288.0, 307.0, 310.0}"
      ]
     },
     "execution_count": 80,
     "metadata": {},
     "output_type": "execute_result"
    }
   ],
   "source": [
    "# Find missing station info\n",
    "def not_nan(n):\n",
    "    return not math.isnan(n)\n",
    "known_stations = set(stations_by_id.keys())\n",
    "start_stations = set(filter(not_nan, trips['Start station'].unique()))\n",
    "end_stations =  set(filter(not_nan, trips['End station'].unique()))\n",
    "trip_stations = start_stations | end_stations\n",
    "unknown_stations = trip_stations - known_stations\n",
    "unknown_stations"
   ]
  },
  {
   "cell_type": "code",
   "execution_count": 16,
   "metadata": {},
   "outputs": [
    {
     "data": {
      "text/plain": [
       "219"
      ]
     },
     "execution_count": 16,
     "metadata": {},
     "output_type": "execute_result"
    }
   ],
   "source": [
    "# Trips with missing start/end stations\n",
    "missing_start = trips[pandas.isnull(trips['Start station'])]\n",
    "missing_end = trips[pandas.isnull(trips['End station'])]\n",
    "len(missing_start + missing_end)"
   ]
  },
  {
   "cell_type": "code",
   "execution_count": 43,
   "metadata": {},
   "outputs": [
    {
     "data": {
      "text/plain": [
       "155"
      ]
     },
     "execution_count": 43,
     "metadata": {},
     "output_type": "execute_result"
    }
   ],
   "source": [
    "len(trips['End station'].unique())"
   ]
  },
  {
   "cell_type": "code",
   "execution_count": null,
   "metadata": {
    "collapsed": true
   },
   "outputs": [],
   "source": []
  }
 ],
 "metadata": {
  "kernelspec": {
   "display_name": "Python 3",
   "language": "python",
   "name": "python3"
  },
  "language_info": {
   "codemirror_mode": {
    "name": "ipython",
    "version": 3
   },
   "file_extension": ".py",
   "mimetype": "text/x-python",
   "name": "python",
   "nbconvert_exporter": "python",
   "pygments_lexer": "ipython3",
   "version": "3.6.2"
  }
 },
 "nbformat": 4,
 "nbformat_minor": 2
}
