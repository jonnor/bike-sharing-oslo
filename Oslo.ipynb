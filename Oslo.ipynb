{
 "cells": [
  {
   "cell_type": "code",
   "execution_count": 3,
   "metadata": {
    "collapsed": true
   },
   "outputs": [],
   "source": [
    "%matplotlib inline\n",
    "import pandas"
   ]
  },
  {
   "cell_type": "code",
   "execution_count": 1,
   "metadata": {},
   "outputs": [
    {
     "name": "stdout",
     "output_type": "stream",
     "text": [
      "skipping existing http://oslo-citybike.s3.amazonaws.com/exports/trips-2016.6.1-2016.6.30.csv.zip\n",
      "skipping existing http://oslo-citybike.s3.amazonaws.com/exports/trips-2016.7.1-2016.7.31.csv.zip\n",
      "skipping existing http://oslo-citybike.s3.amazonaws.com/exports/trips-2016.8.1-2016.8.31.csv.zip\n",
      "skipping existing http://oslo-citybike.s3.amazonaws.com/exports/trips-2016.9.1-2016.9.30.csv.zip\n",
      "skipping existing http://oslo-citybike.s3.amazonaws.com/exports/trips-2016.10.1-2016.10.31.csv.zip\n",
      "skipping existing http://oslo-citybike.s3.amazonaws.com/exports/trips-2016.11.1-2016.11.30.csv.zip\n",
      "skipping existing http://oslo-citybike.s3.amazonaws.com/exports/trips-2016.12.1-2016.12.31.csv.zip\n",
      "skipping existing http://oslo-citybike.s3.amazonaws.com/exports/trips-2017.4.1-2017.4.30.csv.zip\n",
      "skipping existing http://oslo-citybike.s3.amazonaws.com/exports/trips-2017.5.1-2017.5.31.csv.zip\n",
      "skipping existing http://oslo-citybike.s3.amazonaws.com/exports/trips-2017.6.1-2017.6.30.csv.zip\n",
      "skipping existing http://oslo-citybike.s3.amazonaws.com/exports/trips-2017.7.1-2017.7.31.csv.zip\n"
     ]
    },
    {
     "data": {
      "text/plain": [
       "'done'"
      ]
     },
     "execution_count": 1,
     "metadata": {},
     "output_type": "execute_result"
    }
   ],
   "source": [
    "# Tools for downloading dataset\n",
    "def trips_basename(year, month):\n",
    "    import calendar\n",
    "    firstday, lastday = (1, calendar.monthrange(year, month)[1])\n",
    "    return \"trips-{year}.{month}.{firstday}-{year}.{month}.{lastday}\".format(**locals())\n",
    "def trips_url(year, month):\n",
    "    base = trips_basename(year, month)\n",
    "    extension = '.csv.zip'\n",
    "    server_dir = 'http://oslo-citybike.s3.amazonaws.com/exports/'\n",
    "    return server_dir + base + extension\n",
    "\n",
    "def download_trip(year, month):\n",
    "    import urllib.request\n",
    "    from io import BytesIO\n",
    "    from zipfile import ZipFile\n",
    "    import os.path\n",
    "    \n",
    "    url = trips_url(year, month)\n",
    "    filename = trips_basename(year, month) + '.csv'\n",
    "    outpath = \"data/\"+filename\n",
    "    if os.path.exists(outpath):\n",
    "        print('skipping existing %s' % (url))\n",
    "        return outpath\n",
    "    \n",
    "    print('downloading %s' % (url,))\n",
    "    \n",
    "    # Download ZIP to memory\n",
    "    # ZipFile requires seek() which urlib does not implement\n",
    "    temp = BytesIO()\n",
    "    temp.write(urllib.request.urlopen(url).read())\n",
    "    zipfile = ZipFile(temp)\n",
    "\n",
    "    # Write to disk\n",
    "    csvfile = open(outpath, 'wb+')\n",
    "    csvfile.write(zipfile.read(filename))\n",
    "\n",
    "    csvfile.close()\n",
    "    zipfile.close()\n",
    "    return outpath\n",
    "\n",
    "def months_between(start, end):\n",
    "    periods = []\n",
    "    current = list(start)\n",
    "    while (current != list(end)):\n",
    "        periods.append(tuple(current))\n",
    "\n",
    "        # calculate next\n",
    "        if current[1] == 12:\n",
    "            # end of year\n",
    "            current[0] += 1\n",
    "            current[1] = 1\n",
    "        else:\n",
    "           # just new month\n",
    "           current[1] += 1\n",
    "    return periods\n",
    "\n",
    "start = (2016, 6)\n",
    "end = (2017, 8)\n",
    "notexisting = [\n",
    "    (2017, 1), (2017, 2), (2017, 3)\n",
    "]\n",
    "periods = sorted(set(months_between(start, end)).difference(notexisting))\n",
    "for period in periods:\n",
    "    try:\n",
    "        filename = download_trip(*period)\n",
    "    except Exception as e:\n",
    "        raise RuntimeError(\"Could not download %d-%d: %s\" % (*period, e.msg))\n",
    "\"done\""
   ]
  },
  {
   "cell_type": "code",
   "execution_count": 2,
   "metadata": {},
   "outputs": [
    {
     "data": {
      "text/plain": [
       "[{'bounds': [{'latitude': 59.915418602160436, 'longitude': 10.762068629264832},\n",
       "   {'latitude': 59.91565254992276, 'longitude': 10.762672126293182},\n",
       "   {'latitude': 59.915807169665264, 'longitude': 10.762433409690855},\n",
       "   {'latitude': 59.91557994562126, 'longitude': 10.761821866035461},\n",
       "   {'latitude': 59.915418602160436, 'longitude': 10.762068629264832}],\n",
       "  'center': {'latitude': 59.91562, 'longitude': 10.762248},\n",
       "  'id': 157,\n",
       "  'in_service': True,\n",
       "  'number_of_locks': 30,\n",
       "  'subtitle': 'mellom Norbygata og Urtegata',\n",
       "  'title': 'Nylandsveien'},\n",
       " {'bounds': [{'latitude': 59.938998693156904, 'longitude': 10.758989453315735},\n",
       "   {'latitude': 59.939057810485, 'longitude': 10.759515166282652},\n",
       "   {'latitude': 59.93939638951557, 'longitude': 10.759338140487671},\n",
       "   {'latitude': 59.93932383715719, 'longitude': 10.758823156356812},\n",
       "   {'latitude': 59.938998693156904, 'longitude': 10.758989453315735}],\n",
       "  'center': {'latitude': 59.939192, 'longitude': 10.759168},\n",
       "  'id': 158,\n",
       "  'in_service': True,\n",
       "  'number_of_locks': 24,\n",
       "  'subtitle': 'rett over busstoppet',\n",
       "  'title': 'Bentsebrugata'},\n",
       " {'bounds': [{'latitude': 59.93911558413561, 'longitude': 10.774433612823486},\n",
       "   {'latitude': 59.939206946912556, 'longitude': 10.77458918094635},\n",
       "   {'latitude': 59.93938967171128, 'longitude': 10.774173438549042},\n",
       "   {'latitude': 59.93929830943778, 'longitude': 10.773993730545044},\n",
       "   {'latitude': 59.93911558413561, 'longitude': 10.774433612823486}],\n",
       "  'center': {'latitude': 59.939262, 'longitude': 10.774296},\n",
       "  'id': 159,\n",
       "  'in_service': True,\n",
       "  'number_of_locks': 21,\n",
       "  'subtitle': 'Mellom Åsengata og Nordkappgata',\n",
       "  'title': 'Hans Nielsen Hauges plass'}]"
      ]
     },
     "execution_count": 2,
     "metadata": {},
     "output_type": "execute_result"
    }
   ],
   "source": [
    "import json\n",
    "stations = json.loads(open('data/oslo_stations.json', 'r').read())\n",
    "stations['stations'][:3]"
   ]
  },
  {
   "cell_type": "code",
   "execution_count": 4,
   "metadata": {},
   "outputs": [
    {
     "data": {
      "text/html": [
       "<div>\n",
       "<style>\n",
       "    .dataframe thead tr:only-child th {\n",
       "        text-align: right;\n",
       "    }\n",
       "\n",
       "    .dataframe thead th {\n",
       "        text-align: left;\n",
       "    }\n",
       "\n",
       "    .dataframe tbody tr th {\n",
       "        vertical-align: top;\n",
       "    }\n",
       "</style>\n",
       "<table border=\"1\" class=\"dataframe\">\n",
       "  <thead>\n",
       "    <tr style=\"text-align: right;\">\n",
       "      <th></th>\n",
       "      <th>Start station</th>\n",
       "      <th>Start time</th>\n",
       "      <th>End station</th>\n",
       "      <th>End time</th>\n",
       "    </tr>\n",
       "  </thead>\n",
       "  <tbody>\n",
       "    <tr>\n",
       "      <th>0</th>\n",
       "      <td>226.0</td>\n",
       "      <td>2016-06-01 05:59:59 +0200</td>\n",
       "      <td>243.0</td>\n",
       "      <td>2016-06-01 06:02:14 +0200</td>\n",
       "    </tr>\n",
       "    <tr>\n",
       "      <th>1</th>\n",
       "      <td>206.0</td>\n",
       "      <td>2016-06-01 06:00:02 +0200</td>\n",
       "      <td>212.0</td>\n",
       "      <td>2016-06-01 06:18:46 +0200</td>\n",
       "    </tr>\n",
       "    <tr>\n",
       "      <th>2</th>\n",
       "      <td>290.0</td>\n",
       "      <td>2016-06-01 06:00:06 +0200</td>\n",
       "      <td>261.0</td>\n",
       "      <td>2016-06-01 06:02:14 +0200</td>\n",
       "    </tr>\n",
       "  </tbody>\n",
       "</table>\n",
       "</div>"
      ],
      "text/plain": [
       "   Start station                 Start time  End station  \\\n",
       "0          226.0  2016-06-01 05:59:59 +0200        243.0   \n",
       "1          206.0  2016-06-01 06:00:02 +0200        212.0   \n",
       "2          290.0  2016-06-01 06:00:06 +0200        261.0   \n",
       "\n",
       "                    End time  \n",
       "0  2016-06-01 06:02:14 +0200  \n",
       "1  2016-06-01 06:18:46 +0200  \n",
       "2  2016-06-01 06:02:14 +0200  "
      ]
     },
     "execution_count": 4,
     "metadata": {},
     "output_type": "execute_result"
    }
   ],
   "source": [
    "# NOTE: Uses about 700MB of RAM\n",
    "trips = pandas.DataFrame()\n",
    "for period in periods:\n",
    "    filename = \"data/\"+ trips_basename(*period)+'.csv'\n",
    "    frame = pandas.read_csv(filename, index_col=None, header=0)\n",
    "    trips = pandas.concat((trips, frame))\n",
    "trips[:3]"
   ]
  },
  {
   "cell_type": "code",
   "execution_count": 5,
   "metadata": {},
   "outputs": [
    {
     "data": {
      "text/plain": [
       "3180520"
      ]
     },
     "execution_count": 5,
     "metadata": {},
     "output_type": "execute_result"
    }
   ],
   "source": [
    "number_trips = trips.shape[0]\n",
    "number_trips"
   ]
  },
  {
   "cell_type": "code",
   "execution_count": 7,
   "metadata": {},
   "outputs": [
    {
     "data": {
      "text/plain": [
       "('2016-06-01 05:59:59 +0200', '2017-07-31 23:59:42 +0200')"
      ]
     },
     "execution_count": 7,
     "metadata": {},
     "output_type": "execute_result"
    }
   ],
   "source": [
    "first = trips['Start time'].min()\n",
    "last = trips['Start time'].max()\n",
    "first, last"
   ]
  },
  {
   "cell_type": "code",
   "execution_count": 8,
   "metadata": {},
   "outputs": [
    {
     "data": {
      "text/plain": [
       "425"
      ]
     },
     "execution_count": 8,
     "metadata": {},
     "output_type": "execute_result"
    }
   ],
   "source": [
    "from datetime import datetime\n",
    "# 2013-12-21 09:12:00, ref http://strftime.org/\n",
    "date_format = \"%Y-%m-%d %H:%M:%S +0200\"\n",
    "f = datetime.strptime(first, date_format)\n",
    "l = datetime.strptime(last, date_format)\n",
    "delta = l - f \n",
    "delta.days"
   ]
  },
  {
   "cell_type": "code",
   "execution_count": 9,
   "metadata": {},
   "outputs": [
    {
     "data": {
      "text/plain": [
       "'Trips per day (average): 7483'"
      ]
     },
     "execution_count": 9,
     "metadata": {},
     "output_type": "execute_result"
    }
   ],
   "source": [
    "\"Trips per day (average): %d\" % (number_trips / delta.days)"
   ]
  },
  {
   "cell_type": "code",
   "execution_count": 19,
   "metadata": {},
   "outputs": [
    {
     "data": {
      "text/html": [
       "<div>\n",
       "<style>\n",
       "    .dataframe thead tr:only-child th {\n",
       "        text-align: right;\n",
       "    }\n",
       "\n",
       "    .dataframe thead th {\n",
       "        text-align: left;\n",
       "    }\n",
       "\n",
       "    .dataframe tbody tr th {\n",
       "        vertical-align: top;\n",
       "    }\n",
       "</style>\n",
       "<table border=\"1\" class=\"dataframe\">\n",
       "  <thead>\n",
       "    <tr style=\"text-align: right;\">\n",
       "      <th></th>\n",
       "      <th>Start station</th>\n",
       "      <th>Start time</th>\n",
       "      <th>End station</th>\n",
       "      <th>End time</th>\n",
       "      <th>Duration</th>\n",
       "    </tr>\n",
       "  </thead>\n",
       "  <tbody>\n",
       "    <tr>\n",
       "      <th>0</th>\n",
       "      <td>226.0</td>\n",
       "      <td>2016-06-01 05:59:59 +0200</td>\n",
       "      <td>243.0</td>\n",
       "      <td>2016-06-01 06:02:14 +0200</td>\n",
       "      <td>135.0</td>\n",
       "    </tr>\n",
       "    <tr>\n",
       "      <th>1</th>\n",
       "      <td>206.0</td>\n",
       "      <td>2016-06-01 06:00:02 +0200</td>\n",
       "      <td>212.0</td>\n",
       "      <td>2016-06-01 06:18:46 +0200</td>\n",
       "      <td>1124.0</td>\n",
       "    </tr>\n",
       "    <tr>\n",
       "      <th>2</th>\n",
       "      <td>290.0</td>\n",
       "      <td>2016-06-01 06:00:06 +0200</td>\n",
       "      <td>261.0</td>\n",
       "      <td>2016-06-01 06:02:14 +0200</td>\n",
       "      <td>128.0</td>\n",
       "    </tr>\n",
       "    <tr>\n",
       "      <th>3</th>\n",
       "      <td>206.0</td>\n",
       "      <td>2016-06-01 06:00:06 +0200</td>\n",
       "      <td>233.0</td>\n",
       "      <td>2016-06-01 06:02:47 +0200</td>\n",
       "      <td>161.0</td>\n",
       "    </tr>\n",
       "    <tr>\n",
       "      <th>4</th>\n",
       "      <td>184.0</td>\n",
       "      <td>2016-06-01 06:00:06 +0200</td>\n",
       "      <td>179.0</td>\n",
       "      <td>2016-06-01 06:15:13 +0200</td>\n",
       "      <td>907.0</td>\n",
       "    </tr>\n",
       "  </tbody>\n",
       "</table>\n",
       "</div>"
      ],
      "text/plain": [
       "   Start station                 Start time  End station  \\\n",
       "0          226.0  2016-06-01 05:59:59 +0200        243.0   \n",
       "1          206.0  2016-06-01 06:00:02 +0200        212.0   \n",
       "2          290.0  2016-06-01 06:00:06 +0200        261.0   \n",
       "3          206.0  2016-06-01 06:00:06 +0200        233.0   \n",
       "4          184.0  2016-06-01 06:00:06 +0200        179.0   \n",
       "\n",
       "                    End time  Duration  \n",
       "0  2016-06-01 06:02:14 +0200     135.0  \n",
       "1  2016-06-01 06:18:46 +0200    1124.0  \n",
       "2  2016-06-01 06:02:14 +0200     128.0  \n",
       "3  2016-06-01 06:02:47 +0200     161.0  \n",
       "4  2016-06-01 06:15:13 +0200     907.0  "
      ]
     },
     "execution_count": 19,
     "metadata": {},
     "output_type": "execute_result"
    }
   ],
   "source": [
    "def calculate_duration(row):\n",
    "    # FIXME: normalize dataframe to have proper datetime \n",
    "    start = datetime.strptime(row['Start time'], date_format) \n",
    "    end = datetime.strptime(row['End time'], date_format)\n",
    "    duration = (end - start).total_seconds()\n",
    "    return duration\n",
    "subs = trips[:5].copy() \n",
    "subs['Duration'] = subs.apply(calculate_duration, 'columns')\n",
    "subs"
   ]
  },
  {
   "cell_type": "code",
   "execution_count": 38,
   "metadata": {},
   "outputs": [
    {
     "data": {
      "text/html": [
       "<div>\n",
       "<style>\n",
       "    .dataframe thead tr:only-child th {\n",
       "        text-align: right;\n",
       "    }\n",
       "\n",
       "    .dataframe thead th {\n",
       "        text-align: left;\n",
       "    }\n",
       "\n",
       "    .dataframe tbody tr th {\n",
       "        vertical-align: top;\n",
       "    }\n",
       "</style>\n",
       "<table border=\"1\" class=\"dataframe\">\n",
       "  <thead>\n",
       "    <tr style=\"text-align: right;\">\n",
       "      <th></th>\n",
       "      <th>Start station</th>\n",
       "      <th>Start time</th>\n",
       "      <th>End station</th>\n",
       "      <th>End time</th>\n",
       "      <th>Duration</th>\n",
       "      <th>Distance</th>\n",
       "      <th>Velocity</th>\n",
       "    </tr>\n",
       "  </thead>\n",
       "  <tbody>\n",
       "    <tr>\n",
       "      <th>0</th>\n",
       "      <td>226.0</td>\n",
       "      <td>2016-06-01 05:59:59 +0200</td>\n",
       "      <td>243.0</td>\n",
       "      <td>2016-06-01 06:02:14 +0200</td>\n",
       "      <td>135.0</td>\n",
       "      <td>610.115142</td>\n",
       "      <td>4.519371</td>\n",
       "    </tr>\n",
       "    <tr>\n",
       "      <th>1</th>\n",
       "      <td>206.0</td>\n",
       "      <td>2016-06-01 06:00:02 +0200</td>\n",
       "      <td>212.0</td>\n",
       "      <td>2016-06-01 06:18:46 +0200</td>\n",
       "      <td>1124.0</td>\n",
       "      <td>2917.746920</td>\n",
       "      <td>2.595860</td>\n",
       "    </tr>\n",
       "    <tr>\n",
       "      <th>2</th>\n",
       "      <td>290.0</td>\n",
       "      <td>2016-06-01 06:00:06 +0200</td>\n",
       "      <td>261.0</td>\n",
       "      <td>2016-06-01 06:02:14 +0200</td>\n",
       "      <td>128.0</td>\n",
       "      <td>354.690116</td>\n",
       "      <td>2.771017</td>\n",
       "    </tr>\n",
       "    <tr>\n",
       "      <th>3</th>\n",
       "      <td>206.0</td>\n",
       "      <td>2016-06-01 06:00:06 +0200</td>\n",
       "      <td>233.0</td>\n",
       "      <td>2016-06-01 06:02:47 +0200</td>\n",
       "      <td>161.0</td>\n",
       "      <td>767.072410</td>\n",
       "      <td>4.764425</td>\n",
       "    </tr>\n",
       "    <tr>\n",
       "      <th>4</th>\n",
       "      <td>184.0</td>\n",
       "      <td>2016-06-01 06:00:06 +0200</td>\n",
       "      <td>179.0</td>\n",
       "      <td>2016-06-01 06:15:13 +0200</td>\n",
       "      <td>907.0</td>\n",
       "      <td>2986.506648</td>\n",
       "      <td>3.292731</td>\n",
       "    </tr>\n",
       "  </tbody>\n",
       "</table>\n",
       "</div>"
      ],
      "text/plain": [
       "   Start station                 Start time  End station  \\\n",
       "0          226.0  2016-06-01 05:59:59 +0200        243.0   \n",
       "1          206.0  2016-06-01 06:00:02 +0200        212.0   \n",
       "2          290.0  2016-06-01 06:00:06 +0200        261.0   \n",
       "3          206.0  2016-06-01 06:00:06 +0200        233.0   \n",
       "4          184.0  2016-06-01 06:00:06 +0200        179.0   \n",
       "\n",
       "                    End time  Duration     Distance  Velocity  \n",
       "0  2016-06-01 06:02:14 +0200     135.0   610.115142  4.519371  \n",
       "1  2016-06-01 06:18:46 +0200    1124.0  2917.746920  2.595860  \n",
       "2  2016-06-01 06:02:14 +0200     128.0   354.690116  2.771017  \n",
       "3  2016-06-01 06:02:47 +0200     161.0   767.072410  4.764425  \n",
       "4  2016-06-01 06:15:13 +0200     907.0  2986.506648  3.292731  "
      ]
     },
     "execution_count": 38,
     "metadata": {},
     "output_type": "execute_result"
    }
   ],
   "source": [
    "import geopy.distance\n",
    "\n",
    "stations_by_id = {} # id -> data\n",
    "for station in stations['stations']:\n",
    "    station_id = station['id']\n",
    "    # sanity checking\n",
    "    if not isinstance(station_id, int):\n",
    "        raise ValueError(\"Station identifier not an integer: %s\" % repr(station_id))\n",
    "    if stations_by_id.get(station_id):\n",
    "        raise ValueError(\"Duplicate station id: %d\" % (station_id,))\n",
    "    stations_by_id[station_id] = station\n",
    "def station_location(station_id):\n",
    "    point = stations_by_id[station_id]['center']\n",
    "    return (point['latitude'], point['longitude'])\n",
    "def calculate_distance(row):\n",
    "    start = station_location(int(row['Start station']))\n",
    "    end = station_location(int(row['End station']))\n",
    "    dist = geopy.distance.great_circle(start, end)\n",
    "    return dist.meters\n",
    " \n",
    "subs['Distance'] = subs.apply(calculate_distance, 'columns')\n",
    "subs"
   ]
  },
  {
   "cell_type": "code",
   "execution_count": 37,
   "metadata": {},
   "outputs": [
    {
     "data": {
      "text/html": [
       "<div>\n",
       "<style>\n",
       "    .dataframe thead tr:only-child th {\n",
       "        text-align: right;\n",
       "    }\n",
       "\n",
       "    .dataframe thead th {\n",
       "        text-align: left;\n",
       "    }\n",
       "\n",
       "    .dataframe tbody tr th {\n",
       "        vertical-align: top;\n",
       "    }\n",
       "</style>\n",
       "<table border=\"1\" class=\"dataframe\">\n",
       "  <thead>\n",
       "    <tr style=\"text-align: right;\">\n",
       "      <th></th>\n",
       "      <th>Start station</th>\n",
       "      <th>Start time</th>\n",
       "      <th>End station</th>\n",
       "      <th>End time</th>\n",
       "      <th>Duration</th>\n",
       "      <th>Distance</th>\n",
       "      <th>Velocity</th>\n",
       "    </tr>\n",
       "  </thead>\n",
       "  <tbody>\n",
       "    <tr>\n",
       "      <th>0</th>\n",
       "      <td>226.0</td>\n",
       "      <td>2016-06-01 05:59:59 +0200</td>\n",
       "      <td>243.0</td>\n",
       "      <td>2016-06-01 06:02:14 +0200</td>\n",
       "      <td>135.0</td>\n",
       "      <td>610.115142</td>\n",
       "      <td>4.519371</td>\n",
       "    </tr>\n",
       "    <tr>\n",
       "      <th>1</th>\n",
       "      <td>206.0</td>\n",
       "      <td>2016-06-01 06:00:02 +0200</td>\n",
       "      <td>212.0</td>\n",
       "      <td>2016-06-01 06:18:46 +0200</td>\n",
       "      <td>1124.0</td>\n",
       "      <td>2917.746920</td>\n",
       "      <td>2.595860</td>\n",
       "    </tr>\n",
       "    <tr>\n",
       "      <th>2</th>\n",
       "      <td>290.0</td>\n",
       "      <td>2016-06-01 06:00:06 +0200</td>\n",
       "      <td>261.0</td>\n",
       "      <td>2016-06-01 06:02:14 +0200</td>\n",
       "      <td>128.0</td>\n",
       "      <td>354.690116</td>\n",
       "      <td>2.771017</td>\n",
       "    </tr>\n",
       "    <tr>\n",
       "      <th>3</th>\n",
       "      <td>206.0</td>\n",
       "      <td>2016-06-01 06:00:06 +0200</td>\n",
       "      <td>233.0</td>\n",
       "      <td>2016-06-01 06:02:47 +0200</td>\n",
       "      <td>161.0</td>\n",
       "      <td>767.072410</td>\n",
       "      <td>4.764425</td>\n",
       "    </tr>\n",
       "    <tr>\n",
       "      <th>4</th>\n",
       "      <td>184.0</td>\n",
       "      <td>2016-06-01 06:00:06 +0200</td>\n",
       "      <td>179.0</td>\n",
       "      <td>2016-06-01 06:15:13 +0200</td>\n",
       "      <td>907.0</td>\n",
       "      <td>2986.506648</td>\n",
       "      <td>3.292731</td>\n",
       "    </tr>\n",
       "  </tbody>\n",
       "</table>\n",
       "</div>"
      ],
      "text/plain": [
       "   Start station                 Start time  End station  \\\n",
       "0          226.0  2016-06-01 05:59:59 +0200        243.0   \n",
       "1          206.0  2016-06-01 06:00:02 +0200        212.0   \n",
       "2          290.0  2016-06-01 06:00:06 +0200        261.0   \n",
       "3          206.0  2016-06-01 06:00:06 +0200        233.0   \n",
       "4          184.0  2016-06-01 06:00:06 +0200        179.0   \n",
       "\n",
       "                    End time  Duration     Distance  Velocity  \n",
       "0  2016-06-01 06:02:14 +0200     135.0   610.115142  4.519371  \n",
       "1  2016-06-01 06:18:46 +0200    1124.0  2917.746920  2.595860  \n",
       "2  2016-06-01 06:02:14 +0200     128.0   354.690116  2.771017  \n",
       "3  2016-06-01 06:02:47 +0200     161.0   767.072410  4.764425  \n",
       "4  2016-06-01 06:15:13 +0200     907.0  2986.506648  3.292731  "
      ]
     },
     "execution_count": 37,
     "metadata": {},
     "output_type": "execute_result"
    }
   ],
   "source": [
    "\n",
    "def calculate_velocity(row):\n",
    "    velocity = row['Distance'] / row['Duration']\n",
    "    return velocity\n",
    " \n",
    "subs['Velocity'] = subs.apply(calculate_velocity, 'columns')\n",
    "subs"
   ]
  },
  {
   "cell_type": "code",
   "execution_count": 80,
   "metadata": {},
   "outputs": [
    {
     "data": {
      "text/plain": [
       "{171.0, 172.0, 173.0, 186.0, 271.0, 288.0, 307.0, 310.0}"
      ]
     },
     "execution_count": 80,
     "metadata": {},
     "output_type": "execute_result"
    }
   ],
   "source": [
    "# Find missing station info\n",
    "def not_nan(n):\n",
    "    return not math.isnan(n)\n",
    "known_stations = set(stations_by_id.keys())\n",
    "start_stations = set(filter(not_nan, trips['Start station'].unique()))\n",
    "end_stations =  set(filter(not_nan, trips['End station'].unique()))\n",
    "trip_stations = start_stations | end_stations\n",
    "unknown_stations = trip_stations - known_stations\n",
    "unknown_stations"
   ]
  },
  {
   "cell_type": "code",
   "execution_count": 16,
   "metadata": {},
   "outputs": [
    {
     "data": {
      "text/plain": [
       "219"
      ]
     },
     "execution_count": 16,
     "metadata": {},
     "output_type": "execute_result"
    }
   ],
   "source": [
    "# Trips with missing start/end stations\n",
    "missing_start = trips[pandas.isnull(trips['Start station'])]\n",
    "missing_end = trips[pandas.isnull(trips['End station'])]\n",
    "len(missing_start + missing_end)"
   ]
  },
  {
   "cell_type": "code",
   "execution_count": 43,
   "metadata": {},
   "outputs": [
    {
     "data": {
      "text/plain": [
       "155"
      ]
     },
     "execution_count": 43,
     "metadata": {},
     "output_type": "execute_result"
    }
   ],
   "source": [
    "len(trips['End station'].unique())"
   ]
  },
  {
   "cell_type": "code",
   "execution_count": null,
   "metadata": {
    "collapsed": true
   },
   "outputs": [],
   "source": []
  }
 ],
 "metadata": {
  "kernelspec": {
   "display_name": "Python 3",
   "language": "python",
   "name": "python3"
  },
  "language_info": {
   "codemirror_mode": {
    "name": "ipython",
    "version": 3
   },
   "file_extension": ".py",
   "mimetype": "text/x-python",
   "name": "python",
   "nbconvert_exporter": "python",
   "pygments_lexer": "ipython3",
   "version": "3.6.2"
  }
 },
 "nbformat": 4,
 "nbformat_minor": 2
}
