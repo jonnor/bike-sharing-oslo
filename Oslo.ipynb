{
 "cells": [
  {
   "cell_type": "code",
   "execution_count": 2,
   "metadata": {
    "collapsed": true
   },
   "outputs": [],
   "source": [
    "%matplotlib inline\n",
    "import pandas"
   ]
  },
  {
   "cell_type": "code",
   "execution_count": 52,
   "metadata": {},
   "outputs": [
    {
     "name": "stdout",
     "output_type": "stream",
     "text": [
      "downloading http://oslo-citybike.s3.amazonaws.com/exports/trips-2016.6.1-2016.6.30.csv.zip\n",
      "downloading http://oslo-citybike.s3.amazonaws.com/exports/trips-2016.7.1-2016.7.31.csv.zip\n",
      "downloading http://oslo-citybike.s3.amazonaws.com/exports/trips-2016.8.1-2016.8.31.csv.zip\n",
      "downloading http://oslo-citybike.s3.amazonaws.com/exports/trips-2016.9.1-2016.9.30.csv.zip\n",
      "downloading http://oslo-citybike.s3.amazonaws.com/exports/trips-2016.10.1-2016.10.31.csv.zip\n",
      "downloading http://oslo-citybike.s3.amazonaws.com/exports/trips-2016.11.1-2016.11.30.csv.zip\n",
      "downloading http://oslo-citybike.s3.amazonaws.com/exports/trips-2016.12.1-2016.12.31.csv.zip\n",
      "downloading http://oslo-citybike.s3.amazonaws.com/exports/trips-2017.4.1-2017.4.30.csv.zip\n",
      "downloading http://oslo-citybike.s3.amazonaws.com/exports/trips-2017.5.1-2017.5.31.csv.zip\n",
      "downloading http://oslo-citybike.s3.amazonaws.com/exports/trips-2017.6.1-2017.6.30.csv.zip\n",
      "downloading http://oslo-citybike.s3.amazonaws.com/exports/trips-2017.7.1-2017.7.31.csv.zip\n"
     ]
    },
    {
     "data": {
      "text/plain": [
       "'done'"
      ]
     },
     "execution_count": 52,
     "metadata": {},
     "output_type": "execute_result"
    }
   ],
   "source": [
    "# Tools for downloading dataset\n",
    "def trips_basename(year, month):\n",
    "    import calendar\n",
    "    firstday, lastday = (1, calendar.monthrange(year, month)[1])\n",
    "    return \"trips-{year}.{month}.{firstday}-{year}.{month}.{lastday}\".format(**locals())\n",
    "def trips_url(year, month):\n",
    "    base = trips_basename(year, month)\n",
    "    extension = '.csv.zip'\n",
    "    server_dir = 'http://oslo-citybike.s3.amazonaws.com/exports/'\n",
    "    return server_dir + base + extension\n",
    "\n",
    "def download_trip(year, month):\n",
    "    import urllib.request\n",
    "    from io import BytesIO\n",
    "    from zipfile import ZipFile\n",
    "    url = trips_url(year, month)\n",
    "\n",
    "    print('downloading %s' % (url,))\n",
    "    \n",
    "    # Download ZIP to memory\n",
    "    # ZipFile requires seek() which urlib does not implement\n",
    "    temp = BytesIO()\n",
    "    temp.write(urllib.request.urlopen(url).read())\n",
    "    zipfile = ZipFile(temp)\n",
    "\n",
    "    # Write to disk\n",
    "    filename = trips_basename(year, month) + '.csv'\n",
    "    csvfile = open(\"data/\"+filename, 'wb+')\n",
    "    csvfile.write(zipfile.read(filename))\n",
    "\n",
    "    csvfile.close()\n",
    "    zipfile.close()\n",
    "    return filename\n",
    "\n",
    "def months_between(start, end):\n",
    "    periods = []\n",
    "    current = list(start)\n",
    "    while (current != list(end)):\n",
    "        periods.append(tuple(current))\n",
    "\n",
    "        # calculate next\n",
    "        if current[1] == 12:\n",
    "            # end of year\n",
    "            current[0] += 1\n",
    "            current[1] = 1\n",
    "        else:\n",
    "           # just new month\n",
    "           current[1] += 1\n",
    "    return periods\n",
    "\n",
    "start = (2016, 6)\n",
    "end = (2017, 8)\n",
    "notexisting = [\n",
    "    (2017, 1), (2017, 2), (2017, 3)\n",
    "]\n",
    "periods = set(months_between(start, end)).difference(notexisting)\n",
    "for period in sorted(periods):\n",
    "    try:\n",
    "        filename = download_trip(*period)\n",
    "    except Exception as e:\n",
    "        raise RuntimeError(\"Could not download %d-%d: %s\" % (*period, e.msg))\n",
    "\"done\""
   ]
  },
  {
   "cell_type": "code",
   "execution_count": 16,
   "metadata": {},
   "outputs": [
    {
     "data": {
      "text/plain": [
       "[{'bounds': [{'latitude': 59.915418602160436, 'longitude': 10.762068629264832},\n",
       "   {'latitude': 59.91565254992276, 'longitude': 10.762672126293182},\n",
       "   {'latitude': 59.915807169665264, 'longitude': 10.762433409690855},\n",
       "   {'latitude': 59.91557994562126, 'longitude': 10.761821866035461},\n",
       "   {'latitude': 59.915418602160436, 'longitude': 10.762068629264832}],\n",
       "  'center': {'latitude': 59.91562, 'longitude': 10.762248},\n",
       "  'id': 157,\n",
       "  'in_service': True,\n",
       "  'number_of_locks': 30,\n",
       "  'subtitle': 'mellom Norbygata og Urtegata',\n",
       "  'title': 'Nylandsveien'},\n",
       " {'bounds': [{'latitude': 59.938998693156904, 'longitude': 10.758989453315735},\n",
       "   {'latitude': 59.939057810485, 'longitude': 10.759515166282652},\n",
       "   {'latitude': 59.93939638951557, 'longitude': 10.759338140487671},\n",
       "   {'latitude': 59.93932383715719, 'longitude': 10.758823156356812},\n",
       "   {'latitude': 59.938998693156904, 'longitude': 10.758989453315735}],\n",
       "  'center': {'latitude': 59.939192, 'longitude': 10.759168},\n",
       "  'id': 158,\n",
       "  'in_service': True,\n",
       "  'number_of_locks': 24,\n",
       "  'subtitle': 'rett over busstoppet',\n",
       "  'title': 'Bentsebrugata'},\n",
       " {'bounds': [{'latitude': 59.93911558413561, 'longitude': 10.774433612823486},\n",
       "   {'latitude': 59.939206946912556, 'longitude': 10.77458918094635},\n",
       "   {'latitude': 59.93938967171128, 'longitude': 10.774173438549042},\n",
       "   {'latitude': 59.93929830943778, 'longitude': 10.773993730545044},\n",
       "   {'latitude': 59.93911558413561, 'longitude': 10.774433612823486}],\n",
       "  'center': {'latitude': 59.939262, 'longitude': 10.774296},\n",
       "  'id': 159,\n",
       "  'in_service': True,\n",
       "  'number_of_locks': 21,\n",
       "  'subtitle': 'Mellom Åsengata og Nordkappgata',\n",
       "  'title': 'Hans Nielsen Hauges plass'}]"
      ]
     },
     "execution_count": 16,
     "metadata": {},
     "output_type": "execute_result"
    }
   ],
   "source": [
    "import json\n",
    "stations = json.loads(open('data/oslo_stations.json', 'r').read())\n",
    "stations['stations'][:3]"
   ]
  },
  {
   "cell_type": "code",
   "execution_count": 3,
   "metadata": {},
   "outputs": [
    {
     "data": {
      "text/html": [
       "<div>\n",
       "<style>\n",
       "    .dataframe thead tr:only-child th {\n",
       "        text-align: right;\n",
       "    }\n",
       "\n",
       "    .dataframe thead th {\n",
       "        text-align: left;\n",
       "    }\n",
       "\n",
       "    .dataframe tbody tr th {\n",
       "        vertical-align: top;\n",
       "    }\n",
       "</style>\n",
       "<table border=\"1\" class=\"dataframe\">\n",
       "  <thead>\n",
       "    <tr style=\"text-align: right;\">\n",
       "      <th></th>\n",
       "      <th>Start station</th>\n",
       "      <th>Start time</th>\n",
       "      <th>End station</th>\n",
       "      <th>End time</th>\n",
       "    </tr>\n",
       "  </thead>\n",
       "  <tbody>\n",
       "    <tr>\n",
       "      <th>0</th>\n",
       "      <td>191</td>\n",
       "      <td>2017-05-01 02:29:23 +0200</td>\n",
       "      <td>210</td>\n",
       "      <td>2017-05-01 02:34:16 +0200</td>\n",
       "    </tr>\n",
       "    <tr>\n",
       "      <th>1</th>\n",
       "      <td>238</td>\n",
       "      <td>2017-05-01 06:00:07 +0200</td>\n",
       "      <td>175</td>\n",
       "      <td>2017-05-01 06:06:22 +0200</td>\n",
       "    </tr>\n",
       "    <tr>\n",
       "      <th>2</th>\n",
       "      <td>272</td>\n",
       "      <td>2017-05-01 06:00:18 +0200</td>\n",
       "      <td>219</td>\n",
       "      <td>2017-05-01 06:15:00 +0200</td>\n",
       "    </tr>\n",
       "  </tbody>\n",
       "</table>\n",
       "</div>"
      ],
      "text/plain": [
       "   Start station                 Start time  End station  \\\n",
       "0            191  2017-05-01 02:29:23 +0200          210   \n",
       "1            238  2017-05-01 06:00:07 +0200          175   \n",
       "2            272  2017-05-01 06:00:18 +0200          219   \n",
       "\n",
       "                    End time  \n",
       "0  2017-05-01 02:34:16 +0200  \n",
       "1  2017-05-01 06:06:22 +0200  \n",
       "2  2017-05-01 06:15:00 +0200  "
      ]
     },
     "execution_count": 3,
     "metadata": {},
     "output_type": "execute_result"
    }
   ],
   "source": [
    "trips = pandas.read_csv('data/trips-2017.5.1-2017.5.31.csv', sep=',', delim_whitespace=False)\n",
    "trips[:3]"
   ]
  },
  {
   "cell_type": "code",
   "execution_count": 5,
   "metadata": {},
   "outputs": [
    {
     "data": {
      "text/plain": [
       "423300"
      ]
     },
     "execution_count": 5,
     "metadata": {},
     "output_type": "execute_result"
    }
   ],
   "source": [
    "number_trips = trips.shape[0]\n",
    "number_trips"
   ]
  },
  {
   "cell_type": "code",
   "execution_count": 6,
   "metadata": {},
   "outputs": [
    {
     "data": {
      "text/plain": [
       "('2017-05-01 02:29:23 +0200', '2017-06-01 01:17:25 +0200')"
      ]
     },
     "execution_count": 6,
     "metadata": {},
     "output_type": "execute_result"
    }
   ],
   "source": [
    "first = trips['Start time'].min()\n",
    "last = trips['Start time'].max()\n",
    "first, last"
   ]
  },
  {
   "cell_type": "code",
   "execution_count": 9,
   "metadata": {},
   "outputs": [
    {
     "data": {
      "text/plain": [
       "30"
      ]
     },
     "execution_count": 9,
     "metadata": {},
     "output_type": "execute_result"
    }
   ],
   "source": [
    "from datetime import datetime\n",
    "# 2013-12-21 09:12:00, ref http://strftime.org/\n",
    "date_format = \"%Y-%m-%d %H:%M:%S +0200\"\n",
    "f = datetime.strptime(first, date_format)\n",
    "l = datetime.strptime(last, date_format)\n",
    "delta = l - f \n",
    "delta.days"
   ]
  },
  {
   "cell_type": "code",
   "execution_count": 10,
   "metadata": {},
   "outputs": [
    {
     "data": {
      "text/plain": [
       "'Trips per day (average): 14110'"
      ]
     },
     "execution_count": 10,
     "metadata": {},
     "output_type": "execute_result"
    }
   ],
   "source": [
    "\"Trips per day (average): %d\" % (number_trips / delta.days)"
   ]
  },
  {
   "cell_type": "code",
   "execution_count": null,
   "metadata": {
    "collapsed": true
   },
   "outputs": [],
   "source": []
  }
 ],
 "metadata": {
  "kernelspec": {
   "display_name": "Python 3",
   "language": "python",
   "name": "python3"
  },
  "language_info": {
   "codemirror_mode": {
    "name": "ipython",
    "version": 3
   },
   "file_extension": ".py",
   "mimetype": "text/x-python",
   "name": "python",
   "nbconvert_exporter": "python",
   "pygments_lexer": "ipython3",
   "version": "3.6.2"
  }
 },
 "nbformat": 4,
 "nbformat_minor": 2
}
