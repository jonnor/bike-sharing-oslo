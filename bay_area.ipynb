{
 "cells": [
  {
   "cell_type": "code",
   "execution_count": 1,
   "metadata": {
    "collapsed": true
   },
   "outputs": [],
   "source": [
    "%matplotlib inline\n",
    "import pandas\n"
   ]
  },
  {
   "cell_type": "code",
   "execution_count": 4,
   "metadata": {},
   "outputs": [],
   "source": [
    "trips = pandas.read_csv('data/bay_area_201608_trip_data.csv', parse_dates=True, index_col=2, keep_date_col=True)\n"
   ]
  },
  {
   "cell_type": "code",
   "execution_count": 5,
   "metadata": {
    "scrolled": true
   },
   "outputs": [
    {
     "data": {
      "text/html": [
       "<div>\n",
       "<style>\n",
       "    .dataframe thead tr:only-child th {\n",
       "        text-align: right;\n",
       "    }\n",
       "\n",
       "    .dataframe thead th {\n",
       "        text-align: left;\n",
       "    }\n",
       "\n",
       "    .dataframe tbody tr th {\n",
       "        vertical-align: top;\n",
       "    }\n",
       "</style>\n",
       "<table border=\"1\" class=\"dataframe\">\n",
       "  <thead>\n",
       "    <tr style=\"text-align: right;\">\n",
       "      <th></th>\n",
       "      <th>Trip ID</th>\n",
       "      <th>Duration</th>\n",
       "      <th>Start Station</th>\n",
       "      <th>Start Terminal</th>\n",
       "      <th>End Date</th>\n",
       "      <th>End Station</th>\n",
       "      <th>End Terminal</th>\n",
       "      <th>Bike #</th>\n",
       "      <th>Subscriber Type</th>\n",
       "      <th>Zip Code</th>\n",
       "    </tr>\n",
       "    <tr>\n",
       "      <th>Start Date</th>\n",
       "      <th></th>\n",
       "      <th></th>\n",
       "      <th></th>\n",
       "      <th></th>\n",
       "      <th></th>\n",
       "      <th></th>\n",
       "      <th></th>\n",
       "      <th></th>\n",
       "      <th></th>\n",
       "      <th></th>\n",
       "    </tr>\n",
       "  </thead>\n",
       "  <tbody>\n",
       "    <tr>\n",
       "      <th>2015-09-01 00:10:00</th>\n",
       "      <td>913465</td>\n",
       "      <td>746</td>\n",
       "      <td>San Francisco Caltrain 2 (330 Townsend)</td>\n",
       "      <td>69</td>\n",
       "      <td>9/1/2015 0:23</td>\n",
       "      <td>San Francisco City Hall</td>\n",
       "      <td>58</td>\n",
       "      <td>238</td>\n",
       "      <td>Subscriber</td>\n",
       "      <td>94107</td>\n",
       "    </tr>\n",
       "    <tr>\n",
       "      <th>2015-09-01 00:15:00</th>\n",
       "      <td>913466</td>\n",
       "      <td>969</td>\n",
       "      <td>Clay at Battery</td>\n",
       "      <td>41</td>\n",
       "      <td>9/1/2015 0:31</td>\n",
       "      <td>Washington at Kearny</td>\n",
       "      <td>46</td>\n",
       "      <td>16</td>\n",
       "      <td>Subscriber</td>\n",
       "      <td>94133</td>\n",
       "    </tr>\n",
       "    <tr>\n",
       "      <th>2015-09-01 00:15:00</th>\n",
       "      <td>913467</td>\n",
       "      <td>233</td>\n",
       "      <td>Davis at Jackson</td>\n",
       "      <td>42</td>\n",
       "      <td>9/1/2015 0:19</td>\n",
       "      <td>Commercial at Montgomery</td>\n",
       "      <td>45</td>\n",
       "      <td>534</td>\n",
       "      <td>Subscriber</td>\n",
       "      <td>94111</td>\n",
       "    </tr>\n",
       "  </tbody>\n",
       "</table>\n",
       "</div>"
      ],
      "text/plain": [
       "                     Trip ID  Duration  \\\n",
       "Start Date                               \n",
       "2015-09-01 00:10:00   913465       746   \n",
       "2015-09-01 00:15:00   913466       969   \n",
       "2015-09-01 00:15:00   913467       233   \n",
       "\n",
       "                                               Start Station  Start Terminal  \\\n",
       "Start Date                                                                     \n",
       "2015-09-01 00:10:00  San Francisco Caltrain 2 (330 Townsend)              69   \n",
       "2015-09-01 00:15:00                          Clay at Battery              41   \n",
       "2015-09-01 00:15:00                         Davis at Jackson              42   \n",
       "\n",
       "                          End Date               End Station  End Terminal  \\\n",
       "Start Date                                                                   \n",
       "2015-09-01 00:10:00  9/1/2015 0:23   San Francisco City Hall            58   \n",
       "2015-09-01 00:15:00  9/1/2015 0:31      Washington at Kearny            46   \n",
       "2015-09-01 00:15:00  9/1/2015 0:19  Commercial at Montgomery            45   \n",
       "\n",
       "                     Bike # Subscriber Type Zip Code  \n",
       "Start Date                                            \n",
       "2015-09-01 00:10:00     238      Subscriber    94107  \n",
       "2015-09-01 00:15:00      16      Subscriber    94133  \n",
       "2015-09-01 00:15:00     534      Subscriber    94111  "
      ]
     },
     "execution_count": 5,
     "metadata": {},
     "output_type": "execute_result"
    }
   ],
   "source": [
    "trips['2015-09-01 00:00:00':'2015-09-02 00:00:00'][:3]"
   ]
  },
  {
   "cell_type": "code",
   "execution_count": 4,
   "metadata": {},
   "outputs": [
    {
     "name": "stdout",
     "output_type": "stream",
     "text": [
      "828.813869788 seconds\n",
      "num_trips: 313689\n"
     ]
    }
   ],
   "source": [
    "avg_duration = sum(trips['Duration'])/trips.shape[0]\n",
    "print(avg_duration, 'seconds')\n",
    "print('num_trips:', trips.shape[0])"
   ]
  },
  {
   "cell_type": "code",
   "execution_count": 5,
   "metadata": {},
   "outputs": [
    {
     "data": {
      "text/plain": [
       "86325"
      ]
     },
     "execution_count": 5,
     "metadata": {},
     "output_type": "execute_result"
    }
   ],
   "source": [
    "trips['Duration'].max()"
   ]
  },
  {
   "cell_type": "code",
   "execution_count": 27,
   "metadata": {},
   "outputs": [
    {
     "data": {
      "text/plain": [
       "<matplotlib.axes._subplots.AxesSubplot at 0x11f957ba8>"
      ]
     },
     "execution_count": 27,
     "metadata": {},
     "output_type": "execute_result"
    },
    {
     "data": {
      "image/png": "[encoded data removed]",
      "text/plain": [
       "<matplotlib.figure.Figure at 0x1206d0cf8>"
      ]
     },
     "metadata": {},
     "output_type": "display_data"
    }
   ],
   "source": [
    "trips['Duration'].hist(bins=50, range=(0, 4000), grid)\n"
   ]
  },
  {
   "cell_type": "markdown",
   "metadata": {},
   "source": [
    "This histogram shows the distribution durations"
   ]
  },
  {
   "cell_type": "code",
   "execution_count": 78,
   "metadata": {
    "collapsed": true
   },
   "outputs": [],
   "source": [
    "one_week = trips['2015-09-07 00:00:00':'2015-09-13 23:59:59']\n",
    "one_day = trips['2015-09-07 00:00:00':'2015-09-08 23:59:59']"
   ]
  },
  {
   "cell_type": "code",
   "execution_count": null,
   "metadata": {
    "collapsed": true
   },
   "outputs": [],
   "source": []
  },
  {
   "cell_type": "code",
   "execution_count": null,
   "metadata": {
    "collapsed": true
   },
   "outputs": [],
   "source": []
  },
  {
   "cell_type": "code",
   "execution_count": null,
   "metadata": {
    "collapsed": true
   },
   "outputs": [],
   "source": []
  },
  {
   "cell_type": "code",
   "execution_count": null,
   "metadata": {
    "collapsed": true
   },
   "outputs": [],
   "source": []
  },
  {
   "cell_type": "code",
   "execution_count": null,
   "metadata": {
    "collapsed": true
   },
   "outputs": [],
   "source": []
  }
 ],
 "metadata": {
  "kernelspec": {
   "display_name": "Python 3",
   "language": "python",
   "name": "python3"
  },
  "language_info": {
   "codemirror_mode": {
    "name": "ipython",
    "version": 3
   },
   "file_extension": ".py",
   "mimetype": "text/x-python",
   "name": "python",
   "nbconvert_exporter": "python",
   "pygments_lexer": "ipython3",
   "version": "3.6.1"
  }
 },
 "nbformat": 4,
 "nbformat_minor": 2
}
