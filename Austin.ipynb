{
 "cells": [
  {
   "cell_type": "code",
   "execution_count": 2,
   "metadata": {
    "collapsed": true
   },
   "outputs": [],
   "source": [
    "%matplotlib inline\n",
    "import pandas"
   ]
  },
  {
   "cell_type": "code",
   "execution_count": 3,
   "metadata": {},
   "outputs": [
    {
     "data": {
      "text/html": [
       "<div>\n",
       "<style>\n",
       "    .dataframe thead tr:only-child th {\n",
       "        text-align: right;\n",
       "    }\n",
       "\n",
       "    .dataframe thead th {\n",
       "        text-align: left;\n",
       "    }\n",
       "\n",
       "    .dataframe tbody tr th {\n",
       "        vertical-align: top;\n",
       "    }\n",
       "</style>\n",
       "<table border=\"1\" class=\"dataframe\">\n",
       "  <thead>\n",
       "    <tr style=\"text-align: right;\">\n",
       "      <th></th>\n",
       "      <th>latitude</th>\n",
       "      <th>location</th>\n",
       "      <th>longitude</th>\n",
       "      <th>name</th>\n",
       "      <th>station_id</th>\n",
       "      <th>status</th>\n",
       "    </tr>\n",
       "  </thead>\n",
       "  <tbody>\n",
       "    <tr>\n",
       "      <th>0</th>\n",
       "      <td>30.27041</td>\n",
       "      <td>(30.27041 -97.75046)</td>\n",
       "      <td>-97.75046</td>\n",
       "      <td>West &amp; 6th St.</td>\n",
       "      <td>2537</td>\n",
       "      <td>active</td>\n",
       "    </tr>\n",
       "    <tr>\n",
       "      <th>1</th>\n",
       "      <td>30.26452</td>\n",
       "      <td>(30.26452 -97.7712)</td>\n",
       "      <td>-97.77120</td>\n",
       "      <td>Barton Springs Pool</td>\n",
       "      <td>2572</td>\n",
       "      <td>active</td>\n",
       "    </tr>\n",
       "    <tr>\n",
       "      <th>2</th>\n",
       "      <td>30.27595</td>\n",
       "      <td>(30.27595 -97.74739)</td>\n",
       "      <td>-97.74739</td>\n",
       "      <td>ACC - Rio Grande &amp; 12th</td>\n",
       "      <td>2545</td>\n",
       "      <td>closed</td>\n",
       "    </tr>\n",
       "  </tbody>\n",
       "</table>\n",
       "</div>"
      ],
      "text/plain": [
       "   latitude              location  longitude                     name  \\\n",
       "0  30.27041  (30.27041 -97.75046)  -97.75046           West & 6th St.   \n",
       "1  30.26452   (30.26452 -97.7712)  -97.77120      Barton Springs Pool   \n",
       "2  30.27595  (30.27595 -97.74739)  -97.74739  ACC - Rio Grande & 12th   \n",
       "\n",
       "   station_id  status  \n",
       "0        2537  active  \n",
       "1        2572  active  \n",
       "2        2545  closed  "
      ]
     },
     "execution_count": 3,
     "metadata": {},
     "output_type": "execute_result"
    }
   ],
   "source": [
    "stations = pandas.read_csv('data/austin_bikeshare_stations.csv', sep=',', delim_whitespace=False)\n",
    "stations[:3]"
   ]
  },
  {
   "cell_type": "code",
   "execution_count": 4,
   "metadata": {},
   "outputs": [
    {
     "data": {
      "text/html": [
       "<div>\n",
       "<style>\n",
       "    .dataframe thead tr:only-child th {\n",
       "        text-align: right;\n",
       "    }\n",
       "\n",
       "    .dataframe thead th {\n",
       "        text-align: left;\n",
       "    }\n",
       "\n",
       "    .dataframe tbody tr th {\n",
       "        vertical-align: top;\n",
       "    }\n",
       "</style>\n",
       "<table border=\"1\" class=\"dataframe\">\n",
       "  <thead>\n",
       "    <tr style=\"text-align: right;\">\n",
       "      <th></th>\n",
       "      <th>bikeid</th>\n",
       "      <th>checkout_time</th>\n",
       "      <th>duration_minutes</th>\n",
       "      <th>end_station_id</th>\n",
       "      <th>end_station_name</th>\n",
       "      <th>month</th>\n",
       "      <th>start_station_id</th>\n",
       "      <th>start_station_name</th>\n",
       "      <th>start_time</th>\n",
       "      <th>subscriber_type</th>\n",
       "      <th>trip_id</th>\n",
       "      <th>year</th>\n",
       "    </tr>\n",
       "  </thead>\n",
       "  <tbody>\n",
       "    <tr>\n",
       "      <th>0</th>\n",
       "      <td>8.0</td>\n",
       "      <td>19:12:00</td>\n",
       "      <td>41</td>\n",
       "      <td>2565.0</td>\n",
       "      <td>Trinity &amp; 6th Street</td>\n",
       "      <td>3.0</td>\n",
       "      <td>2536.0</td>\n",
       "      <td>Waller &amp; 6th St.</td>\n",
       "      <td>2015-03-19 19:12:00</td>\n",
       "      <td>Walk Up</td>\n",
       "      <td>9900082882</td>\n",
       "      <td>2015.0</td>\n",
       "    </tr>\n",
       "    <tr>\n",
       "      <th>1</th>\n",
       "      <td>141.0</td>\n",
       "      <td>2:06:04</td>\n",
       "      <td>6</td>\n",
       "      <td>2570.0</td>\n",
       "      <td>South Congress &amp; Academy</td>\n",
       "      <td>10.0</td>\n",
       "      <td>2494.0</td>\n",
       "      <td>2nd &amp; Congress</td>\n",
       "      <td>2016-10-30 02:06:04</td>\n",
       "      <td>Local365</td>\n",
       "      <td>12617682</td>\n",
       "      <td>2016.0</td>\n",
       "    </tr>\n",
       "    <tr>\n",
       "      <th>2</th>\n",
       "      <td>578.0</td>\n",
       "      <td>16:28:27</td>\n",
       "      <td>13</td>\n",
       "      <td>2498.0</td>\n",
       "      <td>Convention Center / 4th St. @ MetroRail</td>\n",
       "      <td>3.0</td>\n",
       "      <td>2538.0</td>\n",
       "      <td>Bullock Museum @ Congress &amp; MLK</td>\n",
       "      <td>2016-03-11 16:28:27</td>\n",
       "      <td>Local365</td>\n",
       "      <td>9075366</td>\n",
       "      <td>2016.0</td>\n",
       "    </tr>\n",
       "  </tbody>\n",
       "</table>\n",
       "</div>"
      ],
      "text/plain": [
       "   bikeid checkout_time  duration_minutes  end_station_id  \\\n",
       "0     8.0      19:12:00                41          2565.0   \n",
       "1   141.0       2:06:04                 6          2570.0   \n",
       "2   578.0      16:28:27                13          2498.0   \n",
       "\n",
       "                          end_station_name  month  start_station_id  \\\n",
       "0                     Trinity & 6th Street    3.0            2536.0   \n",
       "1                 South Congress & Academy   10.0            2494.0   \n",
       "2  Convention Center / 4th St. @ MetroRail    3.0            2538.0   \n",
       "\n",
       "                start_station_name           start_time subscriber_type  \\\n",
       "0                 Waller & 6th St.  2015-03-19 19:12:00         Walk Up   \n",
       "1                   2nd & Congress  2016-10-30 02:06:04        Local365   \n",
       "2  Bullock Museum @ Congress & MLK  2016-03-11 16:28:27        Local365   \n",
       "\n",
       "      trip_id    year  \n",
       "0  9900082882  2015.0  \n",
       "1    12617682  2016.0  \n",
       "2     9075366  2016.0  "
      ]
     },
     "execution_count": 4,
     "metadata": {},
     "output_type": "execute_result"
    }
   ],
   "source": [
    "trips = pandas.read_csv('data/austin_bikeshare_trips.csv', sep=',', delim_whitespace=False)\n",
    "trips[:3]"
   ]
  },
  {
   "cell_type": "code",
   "execution_count": 11,
   "metadata": {},
   "outputs": [
    {
     "data": {
      "text/plain": [
       "649231"
      ]
     },
     "execution_count": 11,
     "metadata": {},
     "output_type": "execute_result"
    }
   ],
   "source": [
    "number_trips = trips.shape[0]\n",
    "number_trips"
   ]
  },
  {
   "cell_type": "code",
   "execution_count": 32,
   "metadata": {},
   "outputs": [
    {
     "data": {
      "text/plain": [
       "('2013-12-21 09:12:00', '2017-07-31 23:44:27')"
      ]
     },
     "execution_count": 32,
     "metadata": {},
     "output_type": "execute_result"
    }
   ],
   "source": [
    "first = trips['start_time'].min()\n",
    "last = trips['start_time'].max()\n",
    "first, last"
   ]
  },
  {
   "cell_type": "code",
   "execution_count": 41,
   "metadata": {},
   "outputs": [
    {
     "data": {
      "text/plain": [
       "1317"
      ]
     },
     "execution_count": 41,
     "metadata": {},
     "output_type": "execute_result"
    }
   ],
   "source": [
    "from datetime import datetime\n",
    "# 2013-12-21 09:12:00, ref http://strftime.org/\n",
    "date_format = \"%Y-%m-%d %H:%M:%S\"\n",
    "f = datetime.strptime(first, date_format)\n",
    "l = datetime.strptime('2017-07-31 01:44:27', date_format)\n",
    "delta = l - f \n",
    "delta.days"
   ]
  },
  {
   "cell_type": "code",
   "execution_count": 46,
   "metadata": {},
   "outputs": [
    {
     "data": {
      "text/plain": [
       "'Trips per day (average): 492'"
      ]
     },
     "execution_count": 46,
     "metadata": {},
     "output_type": "execute_result"
    }
   ],
   "source": [
    "\"Trips per day (average): %d\" % (number_trips / delta.days)"
   ]
  },
  {
   "cell_type": "code",
   "execution_count": 5,
   "metadata": {},
   "outputs": [
    {
     "data": {
      "text/plain": [
       "<matplotlib.axes._subplots.AxesSubplot at 0x7f3e281a1ba8>"
      ]
     },
     "execution_count": 5,
     "metadata": {},
     "output_type": "execute_result"
    },
    {
     "data": {
      "image/png": "[encoded data removed]",
      "text/plain": [
       "<matplotlib.figure.Figure at 0x7f3e2d6c4198>"
      ]
     },
     "metadata": {},
     "output_type": "display_data"
    }
   ],
   "source": [
    "trips['duration_minutes'].hist(bins=100, range=(0, 3*60))"
   ]
  },
  {
   "cell_type": "code",
   "execution_count": 11,
   "metadata": {},
   "outputs": [
    {
     "data": {
      "application/vnd.jupyter.widget-view+json": {
       "model_id": "00b0a8a5ec8144feb565773343b43cbd"
      }
     },
     "metadata": {},
     "output_type": "display_data"
    },
    {
     "data": {
      "text/plain": [
       "<function __main__.f>"
      ]
     },
     "execution_count": 11,
     "metadata": {},
     "output_type": "execute_result"
    },
    {
     "data": {
      "image/png": "[encoded data removed]",
      "text/plain": [
       "<matplotlib.figure.Figure at 0x7f8ecdc04be0>"
      ]
     },
     "metadata": {},
     "output_type": "display_data"
    },
    {
     "data": {
      "image/png": "[encoded data removed]",
      "text/plain": [
       "<matplotlib.figure.Figure at 0x7f8ecdc01828>"
      ]
     },
     "metadata": {},
     "output_type": "display_data"
    },
    {
     "data": {
      "image/png": "[encoded data removed]",
      "text/plain": [
       "<matplotlib.figure.Figure at 0x7f8ecdb2c080>"
      ]
     },
     "metadata": {},
     "output_type": "display_data"
    }
   ],
   "source": [
    "from ipywidgets import interact, interactive, fixed, interact_manual\n",
    "import ipywidgets as widgets\n",
    "from IPython.display import clear_output\n",
    "\n",
    "def f(x):\n",
    "    clear_output()\n",
    "    return trips['duration_minutes'].hist(bins=x, range=(0, 3*60))\n",
    "\n",
    "interact(f, x=10)"
   ]
  },
  {
   "cell_type": "code",
   "execution_count": null,
   "metadata": {
    "collapsed": true
   },
   "outputs": [],
   "source": []
  }
 ],
 "metadata": {
  "kernelspec": {
   "display_name": "Python 3",
   "language": "python",
   "name": "python3"
  },
  "language_info": {
   "codemirror_mode": {
    "name": "ipython",
    "version": 3
   },
   "file_extension": ".py",
   "mimetype": "text/x-python",
   "name": "python",
   "nbconvert_exporter": "python",
   "pygments_lexer": "ipython3",
   "version": "3.6.2"
  }
 },
 "nbformat": 4,
 "nbformat_minor": 2
}
