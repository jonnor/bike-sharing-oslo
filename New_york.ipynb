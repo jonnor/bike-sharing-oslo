{
 "cells": [
  {
   "cell_type": "code",
   "execution_count": 2,
   "metadata": {
    "collapsed": true
   },
   "outputs": [],
   "source": [
    "import pandas\n",
    "import seaborn as sns; sns.set(style=\"white\", color_codes=True)\n",
    "import numpy as np\n",
    "import matplotlib\n",
    "%matplotlib inline\n",
    "import matplotlib.pyplot as plt"
   ]
  },
  {
   "cell_type": "code",
   "execution_count": 22,
   "metadata": {},
   "outputs": [],
   "source": [
    "trips = pandas.read_csv('New_york/201509-citibike-tripdata.csv', parse_dates=True, index_col=1)"
   ]
  },
  {
   "cell_type": "code",
   "execution_count": 25,
   "metadata": {},
   "outputs": [
    {
     "data": {
      "text/html": [
       "<div>\n",
       "<style>\n",
       "    .dataframe thead tr:only-child th {\n",
       "        text-align: right;\n",
       "    }\n",
       "\n",
       "    .dataframe thead th {\n",
       "        text-align: left;\n",
       "    }\n",
       "\n",
       "    .dataframe tbody tr th {\n",
       "        vertical-align: top;\n",
       "    }\n",
       "</style>\n",
       "<table border=\"1\" class=\"dataframe\">\n",
       "  <thead>\n",
       "    <tr style=\"text-align: right;\">\n",
       "      <th></th>\n",
       "      <th>tripduration</th>\n",
       "      <th>stoptime</th>\n",
       "      <th>start station id</th>\n",
       "      <th>start station name</th>\n",
       "      <th>start station latitude</th>\n",
       "      <th>start station longitude</th>\n",
       "      <th>end station id</th>\n",
       "      <th>end station name</th>\n",
       "      <th>end station latitude</th>\n",
       "      <th>end station longitude</th>\n",
       "      <th>bikeid</th>\n",
       "      <th>usertype</th>\n",
       "      <th>birth year</th>\n",
       "      <th>gender</th>\n",
       "    </tr>\n",
       "    <tr>\n",
       "      <th>starttime</th>\n",
       "      <th></th>\n",
       "      <th></th>\n",
       "      <th></th>\n",
       "      <th></th>\n",
       "      <th></th>\n",
       "      <th></th>\n",
       "      <th></th>\n",
       "      <th></th>\n",
       "      <th></th>\n",
       "      <th></th>\n",
       "      <th></th>\n",
       "      <th></th>\n",
       "      <th></th>\n",
       "      <th></th>\n",
       "    </tr>\n",
       "  </thead>\n",
       "  <tbody>\n",
       "    <tr>\n",
       "      <th>2015-09-01 00:00:00</th>\n",
       "      <td>288</td>\n",
       "      <td>9/1/2015 00:04:48</td>\n",
       "      <td>263</td>\n",
       "      <td>Elizabeth St &amp; Hester St</td>\n",
       "      <td>40.717290</td>\n",
       "      <td>-73.996375</td>\n",
       "      <td>307</td>\n",
       "      <td>Canal St &amp; Rutgers St</td>\n",
       "      <td>40.714275</td>\n",
       "      <td>-73.989900</td>\n",
       "      <td>15479</td>\n",
       "      <td>Subscriber</td>\n",
       "      <td>1989.0</td>\n",
       "      <td>1</td>\n",
       "    </tr>\n",
       "    <tr>\n",
       "      <th>2015-09-01 00:00:00</th>\n",
       "      <td>165</td>\n",
       "      <td>9/1/2015 00:02:45</td>\n",
       "      <td>495</td>\n",
       "      <td>W 47 St &amp; 10 Ave</td>\n",
       "      <td>40.762699</td>\n",
       "      <td>-73.993012</td>\n",
       "      <td>449</td>\n",
       "      <td>W 52 St &amp; 9 Ave</td>\n",
       "      <td>40.764618</td>\n",
       "      <td>-73.987895</td>\n",
       "      <td>23899</td>\n",
       "      <td>Subscriber</td>\n",
       "      <td>1987.0</td>\n",
       "      <td>1</td>\n",
       "    </tr>\n",
       "    <tr>\n",
       "      <th>2015-09-01 00:00:01</th>\n",
       "      <td>367</td>\n",
       "      <td>9/1/2015 00:06:08</td>\n",
       "      <td>3119</td>\n",
       "      <td>Vernon Blvd &amp; 50 Ave</td>\n",
       "      <td>40.742327</td>\n",
       "      <td>-73.954117</td>\n",
       "      <td>3118</td>\n",
       "      <td>McGuinness Blvd &amp; Eagle St</td>\n",
       "      <td>40.735550</td>\n",
       "      <td>-73.952840</td>\n",
       "      <td>23921</td>\n",
       "      <td>Customer</td>\n",
       "      <td>NaN</td>\n",
       "      <td>0</td>\n",
       "    </tr>\n",
       "    <tr>\n",
       "      <th>2015-09-01 00:00:07</th>\n",
       "      <td>926</td>\n",
       "      <td>9/1/2015 00:15:34</td>\n",
       "      <td>536</td>\n",
       "      <td>1 Ave &amp; E 30 St</td>\n",
       "      <td>40.741444</td>\n",
       "      <td>-73.975361</td>\n",
       "      <td>340</td>\n",
       "      <td>Madison St &amp; Clinton St</td>\n",
       "      <td>40.712690</td>\n",
       "      <td>-73.987763</td>\n",
       "      <td>23256</td>\n",
       "      <td>Subscriber</td>\n",
       "      <td>1992.0</td>\n",
       "      <td>1</td>\n",
       "    </tr>\n",
       "    <tr>\n",
       "      <th>2015-09-01 00:00:09</th>\n",
       "      <td>658</td>\n",
       "      <td>9/1/2015 00:11:07</td>\n",
       "      <td>347</td>\n",
       "      <td>Greenwich St &amp; W Houston St</td>\n",
       "      <td>40.728846</td>\n",
       "      <td>-74.008591</td>\n",
       "      <td>483</td>\n",
       "      <td>E 12 St &amp; 3 Ave</td>\n",
       "      <td>40.732233</td>\n",
       "      <td>-73.988900</td>\n",
       "      <td>17289</td>\n",
       "      <td>Subscriber</td>\n",
       "      <td>1976.0</td>\n",
       "      <td>1</td>\n",
       "    </tr>\n",
       "  </tbody>\n",
       "</table>\n",
       "</div>"
      ],
      "text/plain": [
       "                     tripduration           stoptime  start station id  \\\n",
       "starttime                                                                \n",
       "2015-09-01 00:00:00           288  9/1/2015 00:04:48               263   \n",
       "2015-09-01 00:00:00           165  9/1/2015 00:02:45               495   \n",
       "2015-09-01 00:00:01           367  9/1/2015 00:06:08              3119   \n",
       "2015-09-01 00:00:07           926  9/1/2015 00:15:34               536   \n",
       "2015-09-01 00:00:09           658  9/1/2015 00:11:07               347   \n",
       "\n",
       "                              start station name  start station latitude  \\\n",
       "starttime                                                                  \n",
       "2015-09-01 00:00:00     Elizabeth St & Hester St               40.717290   \n",
       "2015-09-01 00:00:00             W 47 St & 10 Ave               40.762699   \n",
       "2015-09-01 00:00:01         Vernon Blvd & 50 Ave               40.742327   \n",
       "2015-09-01 00:00:07              1 Ave & E 30 St               40.741444   \n",
       "2015-09-01 00:00:09  Greenwich St & W Houston St               40.728846   \n",
       "\n",
       "                     start station longitude  end station id  \\\n",
       "starttime                                                      \n",
       "2015-09-01 00:00:00               -73.996375             307   \n",
       "2015-09-01 00:00:00               -73.993012             449   \n",
       "2015-09-01 00:00:01               -73.954117            3118   \n",
       "2015-09-01 00:00:07               -73.975361             340   \n",
       "2015-09-01 00:00:09               -74.008591             483   \n",
       "\n",
       "                               end station name  end station latitude  \\\n",
       "starttime                                                               \n",
       "2015-09-01 00:00:00       Canal St & Rutgers St             40.714275   \n",
       "2015-09-01 00:00:00             W 52 St & 9 Ave             40.764618   \n",
       "2015-09-01 00:00:01  McGuinness Blvd & Eagle St             40.735550   \n",
       "2015-09-01 00:00:07     Madison St & Clinton St             40.712690   \n",
       "2015-09-01 00:00:09             E 12 St & 3 Ave             40.732233   \n",
       "\n",
       "                     end station longitude  bikeid    usertype  birth year  \\\n",
       "starttime                                                                    \n",
       "2015-09-01 00:00:00             -73.989900   15479  Subscriber      1989.0   \n",
       "2015-09-01 00:00:00             -73.987895   23899  Subscriber      1987.0   \n",
       "2015-09-01 00:00:01             -73.952840   23921    Customer         NaN   \n",
       "2015-09-01 00:00:07             -73.987763   23256  Subscriber      1992.0   \n",
       "2015-09-01 00:00:09             -73.988900   17289  Subscriber      1976.0   \n",
       "\n",
       "                     gender  \n",
       "starttime                    \n",
       "2015-09-01 00:00:00       1  \n",
       "2015-09-01 00:00:00       1  \n",
       "2015-09-01 00:00:01       0  \n",
       "2015-09-01 00:00:07       1  \n",
       "2015-09-01 00:00:09       1  "
      ]
     },
     "execution_count": 25,
     "metadata": {},
     "output_type": "execute_result"
    }
   ],
   "source": [
    "trips.head()"
   ]
  },
  {
   "cell_type": "code",
   "execution_count": 32,
   "metadata": {},
   "outputs": [
    {
     "data": {
      "text/plain": [
       "1050.8498285258809"
      ]
     },
     "execution_count": 32,
     "metadata": {},
     "output_type": "execute_result"
    }
   ],
   "source": [
    "plot_data = trips[['stoptime', 'tripduration']].copy()\n",
    "plot_data.loc[:,'time'] = plot_data.index.time\n",
    "#plot_data['tripduration'].mean()\n",
    "time_count = plot_data['time'].copy()"
   ]
  },
  {
   "cell_type": "code",
   "execution_count": 29,
   "metadata": {},
   "outputs": [
    {
     "data": {
      "image/png": "[encoded data removed]",
      "text/plain": [
       "<matplotlib.figure.Figure at 0x123350828>"
      ]
     },
     "metadata": {},
     "output_type": "display_data"
    }
   ],
   "source": [
    "time_count[time_count.index.weekday < 5].hist(bins=48);"
   ]
  },
  {
   "cell_type": "code",
   "execution_count": 42,
   "metadata": {},
   "outputs": [
    {
     "data": {
      "image/png": "[encoded data removed]",
      "text/plain": [
       "<matplotlib.figure.Figure at 0x140ab32b0>"
      ]
     },
     "metadata": {},
     "output_type": "display_data"
    }
   ],
   "source": [
    "time_count[time_count.index.weekday == 5].hist(bins=48);"
   ]
  },
  {
   "cell_type": "code",
   "execution_count": 41,
   "metadata": {},
   "outputs": [
    {
     "data": {
      "image/png": "[encoded data removed]",
      "text/plain": [
       "<matplotlib.figure.Figure at 0x11d69db70>"
      ]
     },
     "metadata": {},
     "output_type": "display_data"
    }
   ],
   "source": [
    "time_count[time_count.index.weekday == 6].hist(bins=48);"
   ]
  },
  {
   "cell_type": "code",
   "execution_count": 35,
   "metadata": {},
   "outputs": [
    {
     "data": {
      "text/plain": [
       "<matplotlib.axes._subplots.AxesSubplot at 0x13d39ae80>"
      ]
     },
     "execution_count": 35,
     "metadata": {},
     "output_type": "execute_result"
    },
    {
     "data": {
      "image/png": "[encoded data removed]",
      "text/plain": [
       "<matplotlib.figure.Figure at 0x12a9de208>"
      ]
     },
     "metadata": {},
     "output_type": "display_data"
    }
   ],
   "source": [
    "plot_data['tripduration'].hist(bins=50, range=(0, 4000))"
   ]
  },
  {
   "cell_type": "code",
   "execution_count": 60,
   "metadata": {},
   "outputs": [
    {
     "data": {
      "text/plain": [
       "starttime\n",
       "0    Axes(0.125,0.125;0.775x0.755)\n",
       "1    Axes(0.125,0.125;0.775x0.755)\n",
       "2    Axes(0.125,0.125;0.775x0.755)\n",
       "3    Axes(0.125,0.125;0.775x0.755)\n",
       "4    Axes(0.125,0.125;0.775x0.755)\n",
       "5    Axes(0.125,0.125;0.775x0.755)\n",
       "6    Axes(0.125,0.125;0.775x0.755)\n",
       "Name: time, dtype: object"
      ]
     },
     "execution_count": 60,
     "metadata": {},
     "output_type": "execute_result"
    },
    {
     "data": {
      "image/png": "[encoded data removed]",
      "text/plain": [
       "<matplotlib.figure.Figure at 0x11c4c95f8>"
      ]
     },
     "metadata": {},
     "output_type": "display_data"
    }
   ],
   "source": [
    "plot_data['time'].groupby(plot_data.index.weekday).hist(bins=50, alpha=0.3)"
   ]
  },
  {
   "cell_type": "code",
   "execution_count": null,
   "metadata": {
    "collapsed": true
   },
   "outputs": [],
   "source": []
  }
 ],
 "metadata": {
  "kernelspec": {
   "display_name": "Python 3",
   "language": "python",
   "name": "python3"
  },
  "language_info": {
   "codemirror_mode": {
    "name": "ipython",
    "version": 3
   },
   "file_extension": ".py",
   "mimetype": "text/x-python",
   "name": "python",
   "nbconvert_exporter": "python",
   "pygments_lexer": "ipython3",
   "version": "3.6.1"
  }
 },
 "nbformat": 4,
 "nbformat_minor": 2
}
