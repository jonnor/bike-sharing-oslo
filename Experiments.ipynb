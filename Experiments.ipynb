{
 "cells": [
  {
   "cell_type": "code",
   "execution_count": null,
   "metadata": {
    "collapsed": true
   },
   "outputs": [],
   "source": [
    "# Are there cycles in the movement of bikes?\n",
    "period = trips['2016-06-03':'2016-06-03']\n",
    "cross = pandas.crosstab(period['Start station'], period['End station'])\n",
    "relative = cross.div(cross.sum(axis=1), axis=0)\n",
    "D, P = numpy.linalg.eig(relative.values@relative.values)\n",
    "P"
   ]
  }
 ],
 "metadata": {
  "kernelspec": {
   "display_name": "Python 3",
   "language": "python",
   "name": "python3"
  },
  "language_info": {
   "codemirror_mode": {
    "name": "ipython",
    "version": 3
   },
   "file_extension": ".py",
   "mimetype": "text/x-python",
   "name": "python",
   "nbconvert_exporter": "python",
   "pygments_lexer": "ipython3",
   "version": "3.6.2"
  }
 },
 "nbformat": 4,
 "nbformat_minor": 2
}
